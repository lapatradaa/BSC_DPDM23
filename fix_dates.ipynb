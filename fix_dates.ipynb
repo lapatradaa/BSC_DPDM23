{
 "cells": [
  {
   "cell_type": "code",
   "execution_count": 35,
   "metadata": {},
   "outputs": [],
   "source": [
    "import pandas as pd\n",
    "import numpy as np"
   ]
  },
  {
   "cell_type": "code",
   "execution_count": 36,
   "metadata": {},
   "outputs": [],
   "source": [
    "path = '/Users/jovan/Downloads/Telegram Desktop/อุตุ/ความกด(เปอร์เซ็นต์)/จ.ขอนแก่น.xlsx'\n",
    "df = pd.read_excel(path)\n"
   ]
  },
  {
   "cell_type": "code",
   "execution_count": 37,
   "metadata": {},
   "outputs": [
    {
     "name": "stdout",
     "output_type": "stream",
     "text": [
      "<class 'pandas.core.frame.DataFrame'>\n",
      "RangeIndex: 59 entries, 0 to 58\n",
      "Data columns (total 35 columns):\n",
      " #   Column               Non-Null Count  Dtype  \n",
      "---  ------               --------------  -----  \n",
      " 0   ความกด(เปอร์เซ็นต์)  57 non-null     object \n",
      " 1   Unnamed: 1           56 non-null     object \n",
      " 2   Unnamed: 2           56 non-null     object \n",
      " 3   Unnamed: 3           58 non-null     object \n",
      " 4   Unnamed: 4           56 non-null     float64\n",
      " 5   Unnamed: 5           56 non-null     float64\n",
      " 6   Unnamed: 6           56 non-null     float64\n",
      " 7   Unnamed: 7           56 non-null     float64\n",
      " 8   Unnamed: 8           56 non-null     float64\n",
      " 9   Unnamed: 9           56 non-null     float64\n",
      " 10  Unnamed: 10          56 non-null     float64\n",
      " 11  Unnamed: 11          56 non-null     float64\n",
      " 12  Unnamed: 12          56 non-null     float64\n",
      " 13  Unnamed: 13          56 non-null     float64\n",
      " 14  Unnamed: 14          56 non-null     float64\n",
      " 15  Unnamed: 15          56 non-null     float64\n",
      " 16  Unnamed: 16          56 non-null     float64\n",
      " 17  Unnamed: 17          56 non-null     float64\n",
      " 18  Unnamed: 18          56 non-null     float64\n",
      " 19  Unnamed: 19          56 non-null     float64\n",
      " 20  Unnamed: 20          56 non-null     float64\n",
      " 21  Unnamed: 21          56 non-null     float64\n",
      " 22  Unnamed: 22          56 non-null     float64\n",
      " 23  Unnamed: 23          56 non-null     float64\n",
      " 24  Unnamed: 24          56 non-null     float64\n",
      " 25  Unnamed: 25          56 non-null     float64\n",
      " 26  Unnamed: 26          56 non-null     float64\n",
      " 27  Unnamed: 27          56 non-null     float64\n",
      " 28  Unnamed: 28          56 non-null     float64\n",
      " 29  Unnamed: 29          56 non-null     float64\n",
      " 30  Unnamed: 30          56 non-null     float64\n",
      " 31  Unnamed: 31          56 non-null     object \n",
      " 32  Unnamed: 32          56 non-null     object \n",
      " 33  Unnamed: 33          56 non-null     object \n",
      " 34  Unnamed: 34          56 non-null     object \n",
      "dtypes: float64(27), object(8)\n",
      "memory usage: 16.3+ KB\n"
     ]
    }
   ],
   "source": [
    "df.info()"
   ]
  },
  {
   "cell_type": "code",
   "execution_count": 38,
   "metadata": {},
   "outputs": [
    {
     "name": "stderr",
     "output_type": "stream",
     "text": [
      "/var/folders/t3/75ygf7y15v17y6fbb1lf_lch0000gn/T/ipykernel_12196/902058038.py:1: UserWarning: Could not infer format, so each element will be parsed individually, falling back to `dateutil`. To ensure parsing is consistent and as-expected, please specify a format.\n",
      "  df['Unnamed: 2'] = pd.to_datetime(df['Unnamed: 2'], errors='coerce')\n"
     ]
    }
   ],
   "source": [
    "df['Unnamed: 2'] = pd.to_datetime(df['Unnamed: 2'], errors='coerce')\n"
   ]
  },
  {
   "cell_type": "code",
   "execution_count": 39,
   "metadata": {},
   "outputs": [],
   "source": [
    "def fix_dates(row):\n",
    "  year = row['Unnamed: 2'].year\n",
    "  if year % 4 == 0: # year where feb has 29\n",
    "    if row['Unnamed: 2'].month == 2: # february \n",
    "      row['Unnamed: 32'] = np.nan # 30\n",
    "      row['Unnamed: 33'] = np.nan # 31\n",
    "    elif row['Unnamed: 2'].month % 2 == 0:\n",
    "      row[31] = np.nan\n",
    "  else:\n",
    "    if row['Unnamed: 2'].month == 2: # year where feb has 28\n",
    "      row['Unnamed: 31'] = np.nan # 29\n",
    "      row['Unnamed: 32'] = np.nan # 30\n",
    "      row['Unnamed: 33'] = np.nan # 31\n",
    "    elif row['Unnamed: 2'].month % 2 == 0:\n",
    "      row['Unnamed : 33'] = np.nan\n",
    "  return row"
   ]
  },
  {
   "cell_type": "code",
   "execution_count": 41,
   "metadata": {},
   "outputs": [
    {
     "name": "stderr",
     "output_type": "stream",
     "text": [
      "/var/folders/t3/75ygf7y15v17y6fbb1lf_lch0000gn/T/ipykernel_12196/2855315861.py:8: FutureWarning: Series.__setitem__ treating keys as positions is deprecated. In a future version, integer keys will always be treated as labels (consistent with DataFrame behavior). To set a value by position, use `ser.iloc[pos] = value`\n",
      "  row[31] = np.nan\n"
     ]
    }
   ],
   "source": [
    "df = df.apply(fix_dates, axis=1)\n"
   ]
  },
  {
   "cell_type": "code",
   "execution_count": null,
   "metadata": {},
   "outputs": [],
   "source": []
  }
 ],
 "metadata": {
  "kernelspec": {
   "display_name": "DACenv",
   "language": "python",
   "name": "python3"
  },
  "language_info": {
   "codemirror_mode": {
    "name": "ipython",
    "version": 3
   },
   "file_extension": ".py",
   "mimetype": "text/x-python",
   "name": "python",
   "nbconvert_exporter": "python",
   "pygments_lexer": "ipython3",
   "version": "3.11.5"
  }
 },
 "nbformat": 4,
 "nbformat_minor": 2
}
