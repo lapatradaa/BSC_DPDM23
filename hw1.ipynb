{
  "nbformat": 4,
  "nbformat_minor": 0,
  "metadata": {
    "colab": {
      "provenance": [],
      "toc_visible": true,
      "authorship_tag": "ABX9TyMVr8TGWi1HX+haVZ2GCgyS",
      "include_colab_link": true
    },
    "kernelspec": {
      "name": "python3",
      "display_name": "Python 3"
    },
    "language_info": {
      "name": "python"
    }
  },
  "cells": [
    {
      "cell_type": "markdown",
      "metadata": {
        "id": "view-in-github",
        "colab_type": "text"
      },
      "source": [
        "<a href=\"https://colab.research.google.com/github/lapatradaa/BSC_DPDM23/blob/main/hw1.ipynb\" target=\"_parent\"><img src=\"https://colab.research.google.com/assets/colab-badge.svg\" alt=\"Open In Colab\"/></a>"
      ]
    },
    {
      "cell_type": "code",
      "execution_count": 74,
      "metadata": {
        "id": "BUZ3szNXpjW8",
        "colab": {
          "base_uri": "https://localhost:8080/"
        },
        "outputId": "395d950e-4317-4f14-b207-6f077ce3888a"
      },
      "outputs": [
        {
          "output_type": "stream",
          "name": "stderr",
          "text": [
            "/usr/local/lib/python3.10/dist-packages/ipykernel/ipkernel.py:283: DeprecationWarning: `should_run_async` will not call `transform_cell` automatically in the future. Please pass the result to `transformed_cell` argument and any exception that happen during thetransform in `preprocessing_exc_tuple` in IPython 7.17 and above.\n",
            "  and should_run_async(code)\n"
          ]
        }
      ],
      "source": [
        "import pandas as pd\n",
        "import os"
      ]
    },
    {
      "cell_type": "code",
      "source": [
        "from google.colab import drive\n",
        "drive.mount('/content/drive')\n",
        "path = '/content/drive/MyDrive/bsc_dpdm23/shopping/bsc_dpdm23_data'"
      ],
      "metadata": {
        "colab": {
          "base_uri": "https://localhost:8080/"
        },
        "id": "4t34WQsGqBx-",
        "outputId": "b61084a8-f502-48af-f71c-6c3fb58329d3"
      },
      "execution_count": 75,
      "outputs": [
        {
          "output_type": "stream",
          "name": "stderr",
          "text": [
            "/usr/local/lib/python3.10/dist-packages/ipykernel/ipkernel.py:283: DeprecationWarning: `should_run_async` will not call `transform_cell` automatically in the future. Please pass the result to `transformed_cell` argument and any exception that happen during thetransform in `preprocessing_exc_tuple` in IPython 7.17 and above.\n",
            "  and should_run_async(code)\n"
          ]
        },
        {
          "output_type": "stream",
          "name": "stdout",
          "text": [
            "Drive already mounted at /content/drive; to attempt to forcibly remount, call drive.mount(\"/content/drive\", force_remount=True).\n"
          ]
        }
      ]
    },
    {
      "cell_type": "code",
      "source": [
        "df = pd.read_csv(os.path.join(path,'reduced_marketbasket.csv'),encoding='latin-1')"
      ],
      "metadata": {
        "id": "tja-p_9hqEBL",
        "colab": {
          "base_uri": "https://localhost:8080/"
        },
        "outputId": "e630827a-fd0c-4a12-840a-979ac68f5210"
      },
      "execution_count": 76,
      "outputs": [
        {
          "output_type": "stream",
          "name": "stderr",
          "text": [
            "/usr/local/lib/python3.10/dist-packages/ipykernel/ipkernel.py:283: DeprecationWarning: `should_run_async` will not call `transform_cell` automatically in the future. Please pass the result to `transformed_cell` argument and any exception that happen during thetransform in `preprocessing_exc_tuple` in IPython 7.17 and above.\n",
            "  and should_run_async(code)\n"
          ]
        }
      ]
    },
    {
      "cell_type": "code",
      "source": [
        "from google.colab import drive\n",
        "drive.mount('/content/drive')"
      ],
      "metadata": {
        "colab": {
          "base_uri": "https://localhost:8080/"
        },
        "id": "Lq7-AqOzqG-1",
        "outputId": "d77d4565-e0d1-4431-a6e9-33785c031a5e"
      },
      "execution_count": 77,
      "outputs": [
        {
          "output_type": "stream",
          "name": "stderr",
          "text": [
            "/usr/local/lib/python3.10/dist-packages/ipykernel/ipkernel.py:283: DeprecationWarning: `should_run_async` will not call `transform_cell` automatically in the future. Please pass the result to `transformed_cell` argument and any exception that happen during thetransform in `preprocessing_exc_tuple` in IPython 7.17 and above.\n",
            "  and should_run_async(code)\n"
          ]
        },
        {
          "output_type": "stream",
          "name": "stdout",
          "text": [
            "Drive already mounted at /content/drive; to attempt to forcibly remount, call drive.mount(\"/content/drive\", force_remount=True).\n"
          ]
        }
      ]
    },
    {
      "cell_type": "code",
      "source": [
        "set(df['Country'])"
      ],
      "metadata": {
        "colab": {
          "base_uri": "https://localhost:8080/"
        },
        "id": "yn1RECgZr3vc",
        "outputId": "d16ca35c-e4d0-4f6f-df4b-4b5a0dd54619"
      },
      "execution_count": 78,
      "outputs": [
        {
          "output_type": "stream",
          "name": "stderr",
          "text": [
            "/usr/local/lib/python3.10/dist-packages/ipykernel/ipkernel.py:283: DeprecationWarning: `should_run_async` will not call `transform_cell` automatically in the future. Please pass the result to `transformed_cell` argument and any exception that happen during thetransform in `preprocessing_exc_tuple` in IPython 7.17 and above.\n",
            "  and should_run_async(code)\n"
          ]
        },
        {
          "output_type": "execute_result",
          "data": {
            "text/plain": [
              "{'Australia',\n",
              " 'Austria',\n",
              " 'Bahrain',\n",
              " 'Belgium',\n",
              " 'Brazil',\n",
              " 'Canada',\n",
              " 'Channel Islands',\n",
              " 'Cyprus',\n",
              " 'Czech Republic',\n",
              " 'Denmark',\n",
              " 'EIRE',\n",
              " 'European Community',\n",
              " 'Finland',\n",
              " 'France',\n",
              " 'Germany',\n",
              " 'Greece',\n",
              " 'Hong Kong',\n",
              " 'Iceland',\n",
              " 'Israel',\n",
              " 'Italy',\n",
              " 'Japan',\n",
              " 'Lebanon',\n",
              " 'Lithuania',\n",
              " 'Malta',\n",
              " 'Netherlands',\n",
              " 'Norway',\n",
              " 'Poland',\n",
              " 'Portugal',\n",
              " 'RSA',\n",
              " 'Saudi Arabia',\n",
              " 'Singapore',\n",
              " 'Spain',\n",
              " 'Sweden',\n",
              " 'Switzerland',\n",
              " 'USA',\n",
              " 'United Arab Emirates',\n",
              " 'United Kingdom',\n",
              " 'Unspecified'}"
            ]
          },
          "metadata": {},
          "execution_count": 78
        }
      ]
    },
    {
      "cell_type": "code",
      "source": [
        "df"
      ],
      "metadata": {
        "colab": {
          "base_uri": "https://localhost:8080/",
          "height": 653
        },
        "id": "19UcMUQfQJnS",
        "outputId": "d44db7af-1611-4a86-ad5c-0d6b2e2e1362"
      },
      "execution_count": 79,
      "outputs": [
        {
          "output_type": "stream",
          "name": "stderr",
          "text": [
            "/usr/local/lib/python3.10/dist-packages/ipykernel/ipkernel.py:283: DeprecationWarning: `should_run_async` will not call `transform_cell` automatically in the future. Please pass the result to `transformed_cell` argument and any exception that happen during thetransform in `preprocessing_exc_tuple` in IPython 7.17 and above.\n",
            "  and should_run_async(code)\n"
          ]
        },
        {
          "output_type": "execute_result",
          "data": {
            "text/plain": [
              "       InvoiceNo StockCode                          Description  Quantity  \\\n",
              "0         536365    85123A   WHITE HANGING HEART T-LIGHT HOLDER         6   \n",
              "1         536365     71053                  WHITE METAL LANTERN         6   \n",
              "2         536365    84406B       CREAM CUPID HEARTS COAT HANGER         8   \n",
              "3         536365    84029G  KNITTED UNION FLAG HOT WATER BOTTLE         6   \n",
              "4         536365    84029E       RED WOOLLY HOTTIE WHITE HEART.         6   \n",
              "...          ...       ...                                  ...       ...   \n",
              "541904    581587     22613          PACK OF 20 SPACEBOY NAPKINS        12   \n",
              "541905    581587     22899         CHILDREN'S APRON DOLLY GIRL          6   \n",
              "541906    581587     23254        CHILDRENS CUTLERY DOLLY GIRL          4   \n",
              "541907    581587     23255      CHILDRENS CUTLERY CIRCUS PARADE         4   \n",
              "541908    581587     22138        BAKING SET 9 PIECE RETROSPOT          3   \n",
              "\n",
              "             InvoiceDate  UnitPrice  CustomerID         Country  \n",
              "0       12/01/2010 08:26       2.55     17850.0  United Kingdom  \n",
              "1       12/01/2010 08:26       3.39     17850.0  United Kingdom  \n",
              "2       12/01/2010 08:26       2.75     17850.0  United Kingdom  \n",
              "3       12/01/2010 08:26       3.39     17850.0  United Kingdom  \n",
              "4       12/01/2010 08:26       3.39     17850.0  United Kingdom  \n",
              "...                  ...        ...         ...             ...  \n",
              "541904  12/09/2011 12:50       0.85     12680.0          France  \n",
              "541905  12/09/2011 12:50       2.10     12680.0          France  \n",
              "541906  12/09/2011 12:50       4.15     12680.0          France  \n",
              "541907  12/09/2011 12:50       4.15     12680.0          France  \n",
              "541908  12/09/2011 12:50       4.95     12680.0          France  \n",
              "\n",
              "[541909 rows x 8 columns]"
            ],
            "text/html": [
              "\n",
              "  <div id=\"df-8f649581-0bc2-4dab-8123-d9bbe566a18e\" class=\"colab-df-container\">\n",
              "    <div>\n",
              "<style scoped>\n",
              "    .dataframe tbody tr th:only-of-type {\n",
              "        vertical-align: middle;\n",
              "    }\n",
              "\n",
              "    .dataframe tbody tr th {\n",
              "        vertical-align: top;\n",
              "    }\n",
              "\n",
              "    .dataframe thead th {\n",
              "        text-align: right;\n",
              "    }\n",
              "</style>\n",
              "<table border=\"1\" class=\"dataframe\">\n",
              "  <thead>\n",
              "    <tr style=\"text-align: right;\">\n",
              "      <th></th>\n",
              "      <th>InvoiceNo</th>\n",
              "      <th>StockCode</th>\n",
              "      <th>Description</th>\n",
              "      <th>Quantity</th>\n",
              "      <th>InvoiceDate</th>\n",
              "      <th>UnitPrice</th>\n",
              "      <th>CustomerID</th>\n",
              "      <th>Country</th>\n",
              "    </tr>\n",
              "  </thead>\n",
              "  <tbody>\n",
              "    <tr>\n",
              "      <th>0</th>\n",
              "      <td>536365</td>\n",
              "      <td>85123A</td>\n",
              "      <td>WHITE HANGING HEART T-LIGHT HOLDER</td>\n",
              "      <td>6</td>\n",
              "      <td>12/01/2010 08:26</td>\n",
              "      <td>2.55</td>\n",
              "      <td>17850.0</td>\n",
              "      <td>United Kingdom</td>\n",
              "    </tr>\n",
              "    <tr>\n",
              "      <th>1</th>\n",
              "      <td>536365</td>\n",
              "      <td>71053</td>\n",
              "      <td>WHITE METAL LANTERN</td>\n",
              "      <td>6</td>\n",
              "      <td>12/01/2010 08:26</td>\n",
              "      <td>3.39</td>\n",
              "      <td>17850.0</td>\n",
              "      <td>United Kingdom</td>\n",
              "    </tr>\n",
              "    <tr>\n",
              "      <th>2</th>\n",
              "      <td>536365</td>\n",
              "      <td>84406B</td>\n",
              "      <td>CREAM CUPID HEARTS COAT HANGER</td>\n",
              "      <td>8</td>\n",
              "      <td>12/01/2010 08:26</td>\n",
              "      <td>2.75</td>\n",
              "      <td>17850.0</td>\n",
              "      <td>United Kingdom</td>\n",
              "    </tr>\n",
              "    <tr>\n",
              "      <th>3</th>\n",
              "      <td>536365</td>\n",
              "      <td>84029G</td>\n",
              "      <td>KNITTED UNION FLAG HOT WATER BOTTLE</td>\n",
              "      <td>6</td>\n",
              "      <td>12/01/2010 08:26</td>\n",
              "      <td>3.39</td>\n",
              "      <td>17850.0</td>\n",
              "      <td>United Kingdom</td>\n",
              "    </tr>\n",
              "    <tr>\n",
              "      <th>4</th>\n",
              "      <td>536365</td>\n",
              "      <td>84029E</td>\n",
              "      <td>RED WOOLLY HOTTIE WHITE HEART.</td>\n",
              "      <td>6</td>\n",
              "      <td>12/01/2010 08:26</td>\n",
              "      <td>3.39</td>\n",
              "      <td>17850.0</td>\n",
              "      <td>United Kingdom</td>\n",
              "    </tr>\n",
              "    <tr>\n",
              "      <th>...</th>\n",
              "      <td>...</td>\n",
              "      <td>...</td>\n",
              "      <td>...</td>\n",
              "      <td>...</td>\n",
              "      <td>...</td>\n",
              "      <td>...</td>\n",
              "      <td>...</td>\n",
              "      <td>...</td>\n",
              "    </tr>\n",
              "    <tr>\n",
              "      <th>541904</th>\n",
              "      <td>581587</td>\n",
              "      <td>22613</td>\n",
              "      <td>PACK OF 20 SPACEBOY NAPKINS</td>\n",
              "      <td>12</td>\n",
              "      <td>12/09/2011 12:50</td>\n",
              "      <td>0.85</td>\n",
              "      <td>12680.0</td>\n",
              "      <td>France</td>\n",
              "    </tr>\n",
              "    <tr>\n",
              "      <th>541905</th>\n",
              "      <td>581587</td>\n",
              "      <td>22899</td>\n",
              "      <td>CHILDREN'S APRON DOLLY GIRL</td>\n",
              "      <td>6</td>\n",
              "      <td>12/09/2011 12:50</td>\n",
              "      <td>2.10</td>\n",
              "      <td>12680.0</td>\n",
              "      <td>France</td>\n",
              "    </tr>\n",
              "    <tr>\n",
              "      <th>541906</th>\n",
              "      <td>581587</td>\n",
              "      <td>23254</td>\n",
              "      <td>CHILDRENS CUTLERY DOLLY GIRL</td>\n",
              "      <td>4</td>\n",
              "      <td>12/09/2011 12:50</td>\n",
              "      <td>4.15</td>\n",
              "      <td>12680.0</td>\n",
              "      <td>France</td>\n",
              "    </tr>\n",
              "    <tr>\n",
              "      <th>541907</th>\n",
              "      <td>581587</td>\n",
              "      <td>23255</td>\n",
              "      <td>CHILDRENS CUTLERY CIRCUS PARADE</td>\n",
              "      <td>4</td>\n",
              "      <td>12/09/2011 12:50</td>\n",
              "      <td>4.15</td>\n",
              "      <td>12680.0</td>\n",
              "      <td>France</td>\n",
              "    </tr>\n",
              "    <tr>\n",
              "      <th>541908</th>\n",
              "      <td>581587</td>\n",
              "      <td>22138</td>\n",
              "      <td>BAKING SET 9 PIECE RETROSPOT</td>\n",
              "      <td>3</td>\n",
              "      <td>12/09/2011 12:50</td>\n",
              "      <td>4.95</td>\n",
              "      <td>12680.0</td>\n",
              "      <td>France</td>\n",
              "    </tr>\n",
              "  </tbody>\n",
              "</table>\n",
              "<p>541909 rows × 8 columns</p>\n",
              "</div>\n",
              "    <div class=\"colab-df-buttons\">\n",
              "\n",
              "  <div class=\"colab-df-container\">\n",
              "    <button class=\"colab-df-convert\" onclick=\"convertToInteractive('df-8f649581-0bc2-4dab-8123-d9bbe566a18e')\"\n",
              "            title=\"Convert this dataframe to an interactive table.\"\n",
              "            style=\"display:none;\">\n",
              "\n",
              "  <svg xmlns=\"http://www.w3.org/2000/svg\" height=\"24px\" viewBox=\"0 -960 960 960\">\n",
              "    <path d=\"M120-120v-720h720v720H120Zm60-500h600v-160H180v160Zm220 220h160v-160H400v160Zm0 220h160v-160H400v160ZM180-400h160v-160H180v160Zm440 0h160v-160H620v160ZM180-180h160v-160H180v160Zm440 0h160v-160H620v160Z\"/>\n",
              "  </svg>\n",
              "    </button>\n",
              "\n",
              "  <style>\n",
              "    .colab-df-container {\n",
              "      display:flex;\n",
              "      gap: 12px;\n",
              "    }\n",
              "\n",
              "    .colab-df-convert {\n",
              "      background-color: #E8F0FE;\n",
              "      border: none;\n",
              "      border-radius: 50%;\n",
              "      cursor: pointer;\n",
              "      display: none;\n",
              "      fill: #1967D2;\n",
              "      height: 32px;\n",
              "      padding: 0 0 0 0;\n",
              "      width: 32px;\n",
              "    }\n",
              "\n",
              "    .colab-df-convert:hover {\n",
              "      background-color: #E2EBFA;\n",
              "      box-shadow: 0px 1px 2px rgba(60, 64, 67, 0.3), 0px 1px 3px 1px rgba(60, 64, 67, 0.15);\n",
              "      fill: #174EA6;\n",
              "    }\n",
              "\n",
              "    .colab-df-buttons div {\n",
              "      margin-bottom: 4px;\n",
              "    }\n",
              "\n",
              "    [theme=dark] .colab-df-convert {\n",
              "      background-color: #3B4455;\n",
              "      fill: #D2E3FC;\n",
              "    }\n",
              "\n",
              "    [theme=dark] .colab-df-convert:hover {\n",
              "      background-color: #434B5C;\n",
              "      box-shadow: 0px 1px 3px 1px rgba(0, 0, 0, 0.15);\n",
              "      filter: drop-shadow(0px 1px 2px rgba(0, 0, 0, 0.3));\n",
              "      fill: #FFFFFF;\n",
              "    }\n",
              "  </style>\n",
              "\n",
              "    <script>\n",
              "      const buttonEl =\n",
              "        document.querySelector('#df-8f649581-0bc2-4dab-8123-d9bbe566a18e button.colab-df-convert');\n",
              "      buttonEl.style.display =\n",
              "        google.colab.kernel.accessAllowed ? 'block' : 'none';\n",
              "\n",
              "      async function convertToInteractive(key) {\n",
              "        const element = document.querySelector('#df-8f649581-0bc2-4dab-8123-d9bbe566a18e');\n",
              "        const dataTable =\n",
              "          await google.colab.kernel.invokeFunction('convertToInteractive',\n",
              "                                                    [key], {});\n",
              "        if (!dataTable) return;\n",
              "\n",
              "        const docLinkHtml = 'Like what you see? Visit the ' +\n",
              "          '<a target=\"_blank\" href=https://colab.research.google.com/notebooks/data_table.ipynb>data table notebook</a>'\n",
              "          + ' to learn more about interactive tables.';\n",
              "        element.innerHTML = '';\n",
              "        dataTable['output_type'] = 'display_data';\n",
              "        await google.colab.output.renderOutput(dataTable, element);\n",
              "        const docLink = document.createElement('div');\n",
              "        docLink.innerHTML = docLinkHtml;\n",
              "        element.appendChild(docLink);\n",
              "      }\n",
              "    </script>\n",
              "  </div>\n",
              "\n",
              "\n",
              "<div id=\"df-7f81c98e-a7f1-4092-8ff2-41d4a22b1a12\">\n",
              "  <button class=\"colab-df-quickchart\" onclick=\"quickchart('df-7f81c98e-a7f1-4092-8ff2-41d4a22b1a12')\"\n",
              "            title=\"Suggest charts\"\n",
              "            style=\"display:none;\">\n",
              "\n",
              "<svg xmlns=\"http://www.w3.org/2000/svg\" height=\"24px\"viewBox=\"0 0 24 24\"\n",
              "     width=\"24px\">\n",
              "    <g>\n",
              "        <path d=\"M19 3H5c-1.1 0-2 .9-2 2v14c0 1.1.9 2 2 2h14c1.1 0 2-.9 2-2V5c0-1.1-.9-2-2-2zM9 17H7v-7h2v7zm4 0h-2V7h2v10zm4 0h-2v-4h2v4z\"/>\n",
              "    </g>\n",
              "</svg>\n",
              "  </button>\n",
              "\n",
              "<style>\n",
              "  .colab-df-quickchart {\n",
              "      --bg-color: #E8F0FE;\n",
              "      --fill-color: #1967D2;\n",
              "      --hover-bg-color: #E2EBFA;\n",
              "      --hover-fill-color: #174EA6;\n",
              "      --disabled-fill-color: #AAA;\n",
              "      --disabled-bg-color: #DDD;\n",
              "  }\n",
              "\n",
              "  [theme=dark] .colab-df-quickchart {\n",
              "      --bg-color: #3B4455;\n",
              "      --fill-color: #D2E3FC;\n",
              "      --hover-bg-color: #434B5C;\n",
              "      --hover-fill-color: #FFFFFF;\n",
              "      --disabled-bg-color: #3B4455;\n",
              "      --disabled-fill-color: #666;\n",
              "  }\n",
              "\n",
              "  .colab-df-quickchart {\n",
              "    background-color: var(--bg-color);\n",
              "    border: none;\n",
              "    border-radius: 50%;\n",
              "    cursor: pointer;\n",
              "    display: none;\n",
              "    fill: var(--fill-color);\n",
              "    height: 32px;\n",
              "    padding: 0;\n",
              "    width: 32px;\n",
              "  }\n",
              "\n",
              "  .colab-df-quickchart:hover {\n",
              "    background-color: var(--hover-bg-color);\n",
              "    box-shadow: 0 1px 2px rgba(60, 64, 67, 0.3), 0 1px 3px 1px rgba(60, 64, 67, 0.15);\n",
              "    fill: var(--button-hover-fill-color);\n",
              "  }\n",
              "\n",
              "  .colab-df-quickchart-complete:disabled,\n",
              "  .colab-df-quickchart-complete:disabled:hover {\n",
              "    background-color: var(--disabled-bg-color);\n",
              "    fill: var(--disabled-fill-color);\n",
              "    box-shadow: none;\n",
              "  }\n",
              "\n",
              "  .colab-df-spinner {\n",
              "    border: 2px solid var(--fill-color);\n",
              "    border-color: transparent;\n",
              "    border-bottom-color: var(--fill-color);\n",
              "    animation:\n",
              "      spin 1s steps(1) infinite;\n",
              "  }\n",
              "\n",
              "  @keyframes spin {\n",
              "    0% {\n",
              "      border-color: transparent;\n",
              "      border-bottom-color: var(--fill-color);\n",
              "      border-left-color: var(--fill-color);\n",
              "    }\n",
              "    20% {\n",
              "      border-color: transparent;\n",
              "      border-left-color: var(--fill-color);\n",
              "      border-top-color: var(--fill-color);\n",
              "    }\n",
              "    30% {\n",
              "      border-color: transparent;\n",
              "      border-left-color: var(--fill-color);\n",
              "      border-top-color: var(--fill-color);\n",
              "      border-right-color: var(--fill-color);\n",
              "    }\n",
              "    40% {\n",
              "      border-color: transparent;\n",
              "      border-right-color: var(--fill-color);\n",
              "      border-top-color: var(--fill-color);\n",
              "    }\n",
              "    60% {\n",
              "      border-color: transparent;\n",
              "      border-right-color: var(--fill-color);\n",
              "    }\n",
              "    80% {\n",
              "      border-color: transparent;\n",
              "      border-right-color: var(--fill-color);\n",
              "      border-bottom-color: var(--fill-color);\n",
              "    }\n",
              "    90% {\n",
              "      border-color: transparent;\n",
              "      border-bottom-color: var(--fill-color);\n",
              "    }\n",
              "  }\n",
              "</style>\n",
              "\n",
              "  <script>\n",
              "    async function quickchart(key) {\n",
              "      const quickchartButtonEl =\n",
              "        document.querySelector('#' + key + ' button');\n",
              "      quickchartButtonEl.disabled = true;  // To prevent multiple clicks.\n",
              "      quickchartButtonEl.classList.add('colab-df-spinner');\n",
              "      try {\n",
              "        const charts = await google.colab.kernel.invokeFunction(\n",
              "            'suggestCharts', [key], {});\n",
              "      } catch (error) {\n",
              "        console.error('Error during call to suggestCharts:', error);\n",
              "      }\n",
              "      quickchartButtonEl.classList.remove('colab-df-spinner');\n",
              "      quickchartButtonEl.classList.add('colab-df-quickchart-complete');\n",
              "    }\n",
              "    (() => {\n",
              "      let quickchartButtonEl =\n",
              "        document.querySelector('#df-7f81c98e-a7f1-4092-8ff2-41d4a22b1a12 button');\n",
              "      quickchartButtonEl.style.display =\n",
              "        google.colab.kernel.accessAllowed ? 'block' : 'none';\n",
              "    })();\n",
              "  </script>\n",
              "</div>\n",
              "    </div>\n",
              "  </div>\n"
            ]
          },
          "metadata": {},
          "execution_count": 79
        }
      ]
    },
    {
      "cell_type": "markdown",
      "source": [
        "\n",
        "# HW 1 หา Frequent Item Set และ Association Rules\n",
        "\n",
        "\n",
        "*   ของช่วงเวลา Chrismas & New Year (1 Dec-31 Dec)\n",
        "*   ของในประเทศในยุโรป\n",
        "*   ของช่วงเวลา ตรุษจีน ในทวีป Asia (15 Jan -15 Feb)\n",
        "*   ของช่วงเวลา Chrismas & New Year ในทวีป Europe (1 Dec-31 Dec)\n",
        "*   ของวันวาเลนไทน์\n",
        "*   โดยจัดกลุ่มตามประเทศ + เดือน"
      ],
      "metadata": {
        "id": "BpHv2hciOGiN"
      }
    },
    {
      "cell_type": "code",
      "source": [
        "import datetime"
      ],
      "metadata": {
        "id": "dz5L5GmjR-kB",
        "colab": {
          "base_uri": "https://localhost:8080/"
        },
        "outputId": "aa05d23c-b86f-4eb3-8ee1-25152f7ff393"
      },
      "execution_count": 80,
      "outputs": [
        {
          "output_type": "stream",
          "name": "stderr",
          "text": [
            "/usr/local/lib/python3.10/dist-packages/ipykernel/ipkernel.py:283: DeprecationWarning: `should_run_async` will not call `transform_cell` automatically in the future. Please pass the result to `transformed_cell` argument and any exception that happen during thetransform in `preprocessing_exc_tuple` in IPython 7.17 and above.\n",
            "  and should_run_async(code)\n"
          ]
        }
      ]
    },
    {
      "cell_type": "code",
      "source": [
        "!pip install apyori"
      ],
      "metadata": {
        "colab": {
          "base_uri": "https://localhost:8080/"
        },
        "id": "YEpEcCLFTD-d",
        "outputId": "acb27a0d-57a1-4229-a9d2-464f135c84e6"
      },
      "execution_count": 81,
      "outputs": [
        {
          "output_type": "stream",
          "name": "stderr",
          "text": [
            "/usr/local/lib/python3.10/dist-packages/ipykernel/ipkernel.py:283: DeprecationWarning: `should_run_async` will not call `transform_cell` automatically in the future. Please pass the result to `transformed_cell` argument and any exception that happen during thetransform in `preprocessing_exc_tuple` in IPython 7.17 and above.\n",
            "  and should_run_async(code)\n"
          ]
        },
        {
          "output_type": "stream",
          "name": "stdout",
          "text": [
            "Requirement already satisfied: apyori in /usr/local/lib/python3.10/dist-packages (1.1.2)\n"
          ]
        }
      ]
    },
    {
      "cell_type": "code",
      "source": [
        "import pandas as pd\n",
        "from apyori import apriori"
      ],
      "metadata": {
        "id": "-n0WWCKaSV1Y",
        "colab": {
          "base_uri": "https://localhost:8080/"
        },
        "outputId": "22107c76-4fdf-4794-b03f-1d88ffaa9832"
      },
      "execution_count": 82,
      "outputs": [
        {
          "output_type": "stream",
          "name": "stderr",
          "text": [
            "/usr/local/lib/python3.10/dist-packages/ipykernel/ipkernel.py:283: DeprecationWarning: `should_run_async` will not call `transform_cell` automatically in the future. Please pass the result to `transformed_cell` argument and any exception that happen during thetransform in `preprocessing_exc_tuple` in IPython 7.17 and above.\n",
            "  and should_run_async(code)\n"
          ]
        }
      ]
    },
    {
      "cell_type": "markdown",
      "source": [
        "## ข้อที่ 1 ของช่วงเวลา Chrismas & New Year (1 Dec-31 Dec)\n"
      ],
      "metadata": {
        "id": "wTSb5yGxOMhX"
      }
    },
    {
      "cell_type": "code",
      "source": [
        "df['InvoiceDate'] = pd.to_datetime(df['InvoiceDate'], format='%m/%d/%Y %H:%M')"
      ],
      "metadata": {
        "id": "zIpwoKn5jhMk",
        "colab": {
          "base_uri": "https://localhost:8080/"
        },
        "outputId": "e7dcd823-8de1-4b13-8d39-bad87758d43a"
      },
      "execution_count": 83,
      "outputs": [
        {
          "output_type": "stream",
          "name": "stderr",
          "text": [
            "/usr/local/lib/python3.10/dist-packages/ipykernel/ipkernel.py:283: DeprecationWarning: `should_run_async` will not call `transform_cell` automatically in the future. Please pass the result to `transformed_cell` argument and any exception that happen during thetransform in `preprocessing_exc_tuple` in IPython 7.17 and above.\n",
            "  and should_run_async(code)\n"
          ]
        }
      ]
    },
    {
      "cell_type": "code",
      "source": [
        "df_dec = df[(df['InvoiceDate'].dt.month == 12) & (df['InvoiceDate'].dt.day >= 1) & (df['InvoiceDate'].dt.day <= 31)]"
      ],
      "metadata": {
        "colab": {
          "base_uri": "https://localhost:8080/"
        },
        "id": "mkERh5iQ7PlE",
        "outputId": "bb344189-7094-4570-daf6-7c7c94c07f33"
      },
      "execution_count": 84,
      "outputs": [
        {
          "output_type": "stream",
          "name": "stderr",
          "text": [
            "/usr/local/lib/python3.10/dist-packages/ipykernel/ipkernel.py:283: DeprecationWarning: `should_run_async` will not call `transform_cell` automatically in the future. Please pass the result to `transformed_cell` argument and any exception that happen during thetransform in `preprocessing_exc_tuple` in IPython 7.17 and above.\n",
            "  and should_run_async(code)\n"
          ]
        }
      ]
    },
    {
      "cell_type": "code",
      "source": [
        "df_dec"
      ],
      "metadata": {
        "colab": {
          "base_uri": "https://localhost:8080/",
          "height": 653
        },
        "id": "A8db_OBqkQf1",
        "outputId": "3d94e575-5596-47dc-cde5-c1add95c7c6c"
      },
      "execution_count": 85,
      "outputs": [
        {
          "output_type": "stream",
          "name": "stderr",
          "text": [
            "/usr/local/lib/python3.10/dist-packages/ipykernel/ipkernel.py:283: DeprecationWarning: `should_run_async` will not call `transform_cell` automatically in the future. Please pass the result to `transformed_cell` argument and any exception that happen during thetransform in `preprocessing_exc_tuple` in IPython 7.17 and above.\n",
            "  and should_run_async(code)\n"
          ]
        },
        {
          "output_type": "execute_result",
          "data": {
            "text/plain": [
              "       InvoiceNo StockCode                          Description  Quantity  \\\n",
              "0         536365    85123A   WHITE HANGING HEART T-LIGHT HOLDER         6   \n",
              "1         536365     71053                  WHITE METAL LANTERN         6   \n",
              "2         536365    84406B       CREAM CUPID HEARTS COAT HANGER         8   \n",
              "3         536365    84029G  KNITTED UNION FLAG HOT WATER BOTTLE         6   \n",
              "4         536365    84029E       RED WOOLLY HOTTIE WHITE HEART.         6   \n",
              "...          ...       ...                                  ...       ...   \n",
              "541904    581587     22613          PACK OF 20 SPACEBOY NAPKINS        12   \n",
              "541905    581587     22899         CHILDREN'S APRON DOLLY GIRL          6   \n",
              "541906    581587     23254        CHILDRENS CUTLERY DOLLY GIRL          4   \n",
              "541907    581587     23255      CHILDRENS CUTLERY CIRCUS PARADE         4   \n",
              "541908    581587     22138        BAKING SET 9 PIECE RETROSPOT          3   \n",
              "\n",
              "               InvoiceDate  UnitPrice  CustomerID         Country  \n",
              "0      2010-12-01 08:26:00       2.55     17850.0  United Kingdom  \n",
              "1      2010-12-01 08:26:00       3.39     17850.0  United Kingdom  \n",
              "2      2010-12-01 08:26:00       2.75     17850.0  United Kingdom  \n",
              "3      2010-12-01 08:26:00       3.39     17850.0  United Kingdom  \n",
              "4      2010-12-01 08:26:00       3.39     17850.0  United Kingdom  \n",
              "...                    ...        ...         ...             ...  \n",
              "541904 2011-12-09 12:50:00       0.85     12680.0          France  \n",
              "541905 2011-12-09 12:50:00       2.10     12680.0          France  \n",
              "541906 2011-12-09 12:50:00       4.15     12680.0          France  \n",
              "541907 2011-12-09 12:50:00       4.15     12680.0          France  \n",
              "541908 2011-12-09 12:50:00       4.95     12680.0          France  \n",
              "\n",
              "[68006 rows x 8 columns]"
            ],
            "text/html": [
              "\n",
              "  <div id=\"df-c00fd2fb-cfde-49a3-82fa-a9c91328e3c0\" class=\"colab-df-container\">\n",
              "    <div>\n",
              "<style scoped>\n",
              "    .dataframe tbody tr th:only-of-type {\n",
              "        vertical-align: middle;\n",
              "    }\n",
              "\n",
              "    .dataframe tbody tr th {\n",
              "        vertical-align: top;\n",
              "    }\n",
              "\n",
              "    .dataframe thead th {\n",
              "        text-align: right;\n",
              "    }\n",
              "</style>\n",
              "<table border=\"1\" class=\"dataframe\">\n",
              "  <thead>\n",
              "    <tr style=\"text-align: right;\">\n",
              "      <th></th>\n",
              "      <th>InvoiceNo</th>\n",
              "      <th>StockCode</th>\n",
              "      <th>Description</th>\n",
              "      <th>Quantity</th>\n",
              "      <th>InvoiceDate</th>\n",
              "      <th>UnitPrice</th>\n",
              "      <th>CustomerID</th>\n",
              "      <th>Country</th>\n",
              "    </tr>\n",
              "  </thead>\n",
              "  <tbody>\n",
              "    <tr>\n",
              "      <th>0</th>\n",
              "      <td>536365</td>\n",
              "      <td>85123A</td>\n",
              "      <td>WHITE HANGING HEART T-LIGHT HOLDER</td>\n",
              "      <td>6</td>\n",
              "      <td>2010-12-01 08:26:00</td>\n",
              "      <td>2.55</td>\n",
              "      <td>17850.0</td>\n",
              "      <td>United Kingdom</td>\n",
              "    </tr>\n",
              "    <tr>\n",
              "      <th>1</th>\n",
              "      <td>536365</td>\n",
              "      <td>71053</td>\n",
              "      <td>WHITE METAL LANTERN</td>\n",
              "      <td>6</td>\n",
              "      <td>2010-12-01 08:26:00</td>\n",
              "      <td>3.39</td>\n",
              "      <td>17850.0</td>\n",
              "      <td>United Kingdom</td>\n",
              "    </tr>\n",
              "    <tr>\n",
              "      <th>2</th>\n",
              "      <td>536365</td>\n",
              "      <td>84406B</td>\n",
              "      <td>CREAM CUPID HEARTS COAT HANGER</td>\n",
              "      <td>8</td>\n",
              "      <td>2010-12-01 08:26:00</td>\n",
              "      <td>2.75</td>\n",
              "      <td>17850.0</td>\n",
              "      <td>United Kingdom</td>\n",
              "    </tr>\n",
              "    <tr>\n",
              "      <th>3</th>\n",
              "      <td>536365</td>\n",
              "      <td>84029G</td>\n",
              "      <td>KNITTED UNION FLAG HOT WATER BOTTLE</td>\n",
              "      <td>6</td>\n",
              "      <td>2010-12-01 08:26:00</td>\n",
              "      <td>3.39</td>\n",
              "      <td>17850.0</td>\n",
              "      <td>United Kingdom</td>\n",
              "    </tr>\n",
              "    <tr>\n",
              "      <th>4</th>\n",
              "      <td>536365</td>\n",
              "      <td>84029E</td>\n",
              "      <td>RED WOOLLY HOTTIE WHITE HEART.</td>\n",
              "      <td>6</td>\n",
              "      <td>2010-12-01 08:26:00</td>\n",
              "      <td>3.39</td>\n",
              "      <td>17850.0</td>\n",
              "      <td>United Kingdom</td>\n",
              "    </tr>\n",
              "    <tr>\n",
              "      <th>...</th>\n",
              "      <td>...</td>\n",
              "      <td>...</td>\n",
              "      <td>...</td>\n",
              "      <td>...</td>\n",
              "      <td>...</td>\n",
              "      <td>...</td>\n",
              "      <td>...</td>\n",
              "      <td>...</td>\n",
              "    </tr>\n",
              "    <tr>\n",
              "      <th>541904</th>\n",
              "      <td>581587</td>\n",
              "      <td>22613</td>\n",
              "      <td>PACK OF 20 SPACEBOY NAPKINS</td>\n",
              "      <td>12</td>\n",
              "      <td>2011-12-09 12:50:00</td>\n",
              "      <td>0.85</td>\n",
              "      <td>12680.0</td>\n",
              "      <td>France</td>\n",
              "    </tr>\n",
              "    <tr>\n",
              "      <th>541905</th>\n",
              "      <td>581587</td>\n",
              "      <td>22899</td>\n",
              "      <td>CHILDREN'S APRON DOLLY GIRL</td>\n",
              "      <td>6</td>\n",
              "      <td>2011-12-09 12:50:00</td>\n",
              "      <td>2.10</td>\n",
              "      <td>12680.0</td>\n",
              "      <td>France</td>\n",
              "    </tr>\n",
              "    <tr>\n",
              "      <th>541906</th>\n",
              "      <td>581587</td>\n",
              "      <td>23254</td>\n",
              "      <td>CHILDRENS CUTLERY DOLLY GIRL</td>\n",
              "      <td>4</td>\n",
              "      <td>2011-12-09 12:50:00</td>\n",
              "      <td>4.15</td>\n",
              "      <td>12680.0</td>\n",
              "      <td>France</td>\n",
              "    </tr>\n",
              "    <tr>\n",
              "      <th>541907</th>\n",
              "      <td>581587</td>\n",
              "      <td>23255</td>\n",
              "      <td>CHILDRENS CUTLERY CIRCUS PARADE</td>\n",
              "      <td>4</td>\n",
              "      <td>2011-12-09 12:50:00</td>\n",
              "      <td>4.15</td>\n",
              "      <td>12680.0</td>\n",
              "      <td>France</td>\n",
              "    </tr>\n",
              "    <tr>\n",
              "      <th>541908</th>\n",
              "      <td>581587</td>\n",
              "      <td>22138</td>\n",
              "      <td>BAKING SET 9 PIECE RETROSPOT</td>\n",
              "      <td>3</td>\n",
              "      <td>2011-12-09 12:50:00</td>\n",
              "      <td>4.95</td>\n",
              "      <td>12680.0</td>\n",
              "      <td>France</td>\n",
              "    </tr>\n",
              "  </tbody>\n",
              "</table>\n",
              "<p>68006 rows × 8 columns</p>\n",
              "</div>\n",
              "    <div class=\"colab-df-buttons\">\n",
              "\n",
              "  <div class=\"colab-df-container\">\n",
              "    <button class=\"colab-df-convert\" onclick=\"convertToInteractive('df-c00fd2fb-cfde-49a3-82fa-a9c91328e3c0')\"\n",
              "            title=\"Convert this dataframe to an interactive table.\"\n",
              "            style=\"display:none;\">\n",
              "\n",
              "  <svg xmlns=\"http://www.w3.org/2000/svg\" height=\"24px\" viewBox=\"0 -960 960 960\">\n",
              "    <path d=\"M120-120v-720h720v720H120Zm60-500h600v-160H180v160Zm220 220h160v-160H400v160Zm0 220h160v-160H400v160ZM180-400h160v-160H180v160Zm440 0h160v-160H620v160ZM180-180h160v-160H180v160Zm440 0h160v-160H620v160Z\"/>\n",
              "  </svg>\n",
              "    </button>\n",
              "\n",
              "  <style>\n",
              "    .colab-df-container {\n",
              "      display:flex;\n",
              "      gap: 12px;\n",
              "    }\n",
              "\n",
              "    .colab-df-convert {\n",
              "      background-color: #E8F0FE;\n",
              "      border: none;\n",
              "      border-radius: 50%;\n",
              "      cursor: pointer;\n",
              "      display: none;\n",
              "      fill: #1967D2;\n",
              "      height: 32px;\n",
              "      padding: 0 0 0 0;\n",
              "      width: 32px;\n",
              "    }\n",
              "\n",
              "    .colab-df-convert:hover {\n",
              "      background-color: #E2EBFA;\n",
              "      box-shadow: 0px 1px 2px rgba(60, 64, 67, 0.3), 0px 1px 3px 1px rgba(60, 64, 67, 0.15);\n",
              "      fill: #174EA6;\n",
              "    }\n",
              "\n",
              "    .colab-df-buttons div {\n",
              "      margin-bottom: 4px;\n",
              "    }\n",
              "\n",
              "    [theme=dark] .colab-df-convert {\n",
              "      background-color: #3B4455;\n",
              "      fill: #D2E3FC;\n",
              "    }\n",
              "\n",
              "    [theme=dark] .colab-df-convert:hover {\n",
              "      background-color: #434B5C;\n",
              "      box-shadow: 0px 1px 3px 1px rgba(0, 0, 0, 0.15);\n",
              "      filter: drop-shadow(0px 1px 2px rgba(0, 0, 0, 0.3));\n",
              "      fill: #FFFFFF;\n",
              "    }\n",
              "  </style>\n",
              "\n",
              "    <script>\n",
              "      const buttonEl =\n",
              "        document.querySelector('#df-c00fd2fb-cfde-49a3-82fa-a9c91328e3c0 button.colab-df-convert');\n",
              "      buttonEl.style.display =\n",
              "        google.colab.kernel.accessAllowed ? 'block' : 'none';\n",
              "\n",
              "      async function convertToInteractive(key) {\n",
              "        const element = document.querySelector('#df-c00fd2fb-cfde-49a3-82fa-a9c91328e3c0');\n",
              "        const dataTable =\n",
              "          await google.colab.kernel.invokeFunction('convertToInteractive',\n",
              "                                                    [key], {});\n",
              "        if (!dataTable) return;\n",
              "\n",
              "        const docLinkHtml = 'Like what you see? Visit the ' +\n",
              "          '<a target=\"_blank\" href=https://colab.research.google.com/notebooks/data_table.ipynb>data table notebook</a>'\n",
              "          + ' to learn more about interactive tables.';\n",
              "        element.innerHTML = '';\n",
              "        dataTable['output_type'] = 'display_data';\n",
              "        await google.colab.output.renderOutput(dataTable, element);\n",
              "        const docLink = document.createElement('div');\n",
              "        docLink.innerHTML = docLinkHtml;\n",
              "        element.appendChild(docLink);\n",
              "      }\n",
              "    </script>\n",
              "  </div>\n",
              "\n",
              "\n",
              "<div id=\"df-cf41e1ee-1dba-48b2-bcdc-7961ee448328\">\n",
              "  <button class=\"colab-df-quickchart\" onclick=\"quickchart('df-cf41e1ee-1dba-48b2-bcdc-7961ee448328')\"\n",
              "            title=\"Suggest charts\"\n",
              "            style=\"display:none;\">\n",
              "\n",
              "<svg xmlns=\"http://www.w3.org/2000/svg\" height=\"24px\"viewBox=\"0 0 24 24\"\n",
              "     width=\"24px\">\n",
              "    <g>\n",
              "        <path d=\"M19 3H5c-1.1 0-2 .9-2 2v14c0 1.1.9 2 2 2h14c1.1 0 2-.9 2-2V5c0-1.1-.9-2-2-2zM9 17H7v-7h2v7zm4 0h-2V7h2v10zm4 0h-2v-4h2v4z\"/>\n",
              "    </g>\n",
              "</svg>\n",
              "  </button>\n",
              "\n",
              "<style>\n",
              "  .colab-df-quickchart {\n",
              "      --bg-color: #E8F0FE;\n",
              "      --fill-color: #1967D2;\n",
              "      --hover-bg-color: #E2EBFA;\n",
              "      --hover-fill-color: #174EA6;\n",
              "      --disabled-fill-color: #AAA;\n",
              "      --disabled-bg-color: #DDD;\n",
              "  }\n",
              "\n",
              "  [theme=dark] .colab-df-quickchart {\n",
              "      --bg-color: #3B4455;\n",
              "      --fill-color: #D2E3FC;\n",
              "      --hover-bg-color: #434B5C;\n",
              "      --hover-fill-color: #FFFFFF;\n",
              "      --disabled-bg-color: #3B4455;\n",
              "      --disabled-fill-color: #666;\n",
              "  }\n",
              "\n",
              "  .colab-df-quickchart {\n",
              "    background-color: var(--bg-color);\n",
              "    border: none;\n",
              "    border-radius: 50%;\n",
              "    cursor: pointer;\n",
              "    display: none;\n",
              "    fill: var(--fill-color);\n",
              "    height: 32px;\n",
              "    padding: 0;\n",
              "    width: 32px;\n",
              "  }\n",
              "\n",
              "  .colab-df-quickchart:hover {\n",
              "    background-color: var(--hover-bg-color);\n",
              "    box-shadow: 0 1px 2px rgba(60, 64, 67, 0.3), 0 1px 3px 1px rgba(60, 64, 67, 0.15);\n",
              "    fill: var(--button-hover-fill-color);\n",
              "  }\n",
              "\n",
              "  .colab-df-quickchart-complete:disabled,\n",
              "  .colab-df-quickchart-complete:disabled:hover {\n",
              "    background-color: var(--disabled-bg-color);\n",
              "    fill: var(--disabled-fill-color);\n",
              "    box-shadow: none;\n",
              "  }\n",
              "\n",
              "  .colab-df-spinner {\n",
              "    border: 2px solid var(--fill-color);\n",
              "    border-color: transparent;\n",
              "    border-bottom-color: var(--fill-color);\n",
              "    animation:\n",
              "      spin 1s steps(1) infinite;\n",
              "  }\n",
              "\n",
              "  @keyframes spin {\n",
              "    0% {\n",
              "      border-color: transparent;\n",
              "      border-bottom-color: var(--fill-color);\n",
              "      border-left-color: var(--fill-color);\n",
              "    }\n",
              "    20% {\n",
              "      border-color: transparent;\n",
              "      border-left-color: var(--fill-color);\n",
              "      border-top-color: var(--fill-color);\n",
              "    }\n",
              "    30% {\n",
              "      border-color: transparent;\n",
              "      border-left-color: var(--fill-color);\n",
              "      border-top-color: var(--fill-color);\n",
              "      border-right-color: var(--fill-color);\n",
              "    }\n",
              "    40% {\n",
              "      border-color: transparent;\n",
              "      border-right-color: var(--fill-color);\n",
              "      border-top-color: var(--fill-color);\n",
              "    }\n",
              "    60% {\n",
              "      border-color: transparent;\n",
              "      border-right-color: var(--fill-color);\n",
              "    }\n",
              "    80% {\n",
              "      border-color: transparent;\n",
              "      border-right-color: var(--fill-color);\n",
              "      border-bottom-color: var(--fill-color);\n",
              "    }\n",
              "    90% {\n",
              "      border-color: transparent;\n",
              "      border-bottom-color: var(--fill-color);\n",
              "    }\n",
              "  }\n",
              "</style>\n",
              "\n",
              "  <script>\n",
              "    async function quickchart(key) {\n",
              "      const quickchartButtonEl =\n",
              "        document.querySelector('#' + key + ' button');\n",
              "      quickchartButtonEl.disabled = true;  // To prevent multiple clicks.\n",
              "      quickchartButtonEl.classList.add('colab-df-spinner');\n",
              "      try {\n",
              "        const charts = await google.colab.kernel.invokeFunction(\n",
              "            'suggestCharts', [key], {});\n",
              "      } catch (error) {\n",
              "        console.error('Error during call to suggestCharts:', error);\n",
              "      }\n",
              "      quickchartButtonEl.classList.remove('colab-df-spinner');\n",
              "      quickchartButtonEl.classList.add('colab-df-quickchart-complete');\n",
              "    }\n",
              "    (() => {\n",
              "      let quickchartButtonEl =\n",
              "        document.querySelector('#df-cf41e1ee-1dba-48b2-bcdc-7961ee448328 button');\n",
              "      quickchartButtonEl.style.display =\n",
              "        google.colab.kernel.accessAllowed ? 'block' : 'none';\n",
              "    })();\n",
              "  </script>\n",
              "</div>\n",
              "    </div>\n",
              "  </div>\n"
            ]
          },
          "metadata": {},
          "execution_count": 85
        }
      ]
    },
    {
      "cell_type": "code",
      "source": [
        "transactions_dec = df_dec.groupby('InvoiceNo')['Description'].apply(list).reset_index()"
      ],
      "metadata": {
        "colab": {
          "base_uri": "https://localhost:8080/"
        },
        "id": "R_dh4SPi9rld",
        "outputId": "b69cf100-dea8-4517-db14-f5e87770b19e"
      },
      "execution_count": 86,
      "outputs": [
        {
          "output_type": "stream",
          "name": "stderr",
          "text": [
            "/usr/local/lib/python3.10/dist-packages/ipykernel/ipkernel.py:283: DeprecationWarning: `should_run_async` will not call `transform_cell` automatically in the future. Please pass the result to `transformed_cell` argument and any exception that happen during thetransform in `preprocessing_exc_tuple` in IPython 7.17 and above.\n",
            "  and should_run_async(code)\n"
          ]
        }
      ]
    },
    {
      "cell_type": "code",
      "source": [
        "transactions_dec = df_dec.groupby('InvoiceNo')['Description'].apply(list).reset_index()\n",
        "new_transactions_dec = transactions_dec['Description'].apply(lambda x: [str(item) for item in x]) #ใช้ฟังก์ชัน lambda เพื่อแปลงสินค้าทุกชิ้นใน list ของ 'transactions' เป็นข้อความ (string)"
      ],
      "metadata": {
        "id": "ZSEGuA792lav",
        "colab": {
          "base_uri": "https://localhost:8080/"
        },
        "outputId": "cf567114-87d7-4bfc-9788-e56e4a6656f6"
      },
      "execution_count": 87,
      "outputs": [
        {
          "output_type": "stream",
          "name": "stderr",
          "text": [
            "/usr/local/lib/python3.10/dist-packages/ipykernel/ipkernel.py:283: DeprecationWarning: `should_run_async` will not call `transform_cell` automatically in the future. Please pass the result to `transformed_cell` argument and any exception that happen during thetransform in `preprocessing_exc_tuple` in IPython 7.17 and above.\n",
            "  and should_run_async(code)\n"
          ]
        }
      ]
    },
    {
      "cell_type": "code",
      "source": [
        "frequentItemset = list(apriori(new_transactions_dec, min_support=0.035))\n",
        "\n",
        "for record in frequentItemset:\n",
        "    if len(record.items) > 1:\n",
        "        print('yes')\n",
        "        print(f\"Items: {', '.join(record.items)}\")\n",
        "        print(f\"Support: {record.support:.4f} ({record.support*100:.2f}%)\")\n",
        "\n",
        "        for i, stat in enumerate(record.ordered_statistics, 1):\n",
        "            items_base = 'None' if not stat.items_base else ', '.join(stat.items_base)\n",
        "            items_add = ', '.join(stat.items_add)\n",
        "            confidence = stat.confidence\n",
        "            lift = stat.lift\n",
        "\n",
        "            print(f\"Rule {i}: ({items_base} -> {items_add} : Confidence={confidence:.4f}, Lift={lift:.4f})\")\n",
        "        print()"
      ],
      "metadata": {
        "colab": {
          "base_uri": "https://localhost:8080/"
        },
        "id": "Powuf90a221C",
        "outputId": "32193233-0b7c-4db9-8cd0-de48aa1542de"
      },
      "execution_count": 88,
      "outputs": [
        {
          "output_type": "stream",
          "name": "stderr",
          "text": [
            "/usr/local/lib/python3.10/dist-packages/ipykernel/ipkernel.py:283: DeprecationWarning: `should_run_async` will not call `transform_cell` automatically in the future. Please pass the result to `transformed_cell` argument and any exception that happen during thetransform in `preprocessing_exc_tuple` in IPython 7.17 and above.\n",
            "  and should_run_async(code)\n"
          ]
        },
        {
          "output_type": "stream",
          "name": "stdout",
          "text": [
            "yes\n",
            "Items: ALARM CLOCK BAKELIKE RED , ALARM CLOCK BAKELIKE GREEN\n",
            "Support: 0.0368 (3.68%)\n",
            "Rule 1: (None -> ALARM CLOCK BAKELIKE GREEN, ALARM CLOCK BAKELIKE RED  : Confidence=0.0368, Lift=1.0000)\n",
            "Rule 2: (ALARM CLOCK BAKELIKE GREEN -> ALARM CLOCK BAKELIKE RED  : Confidence=0.7089, Lift=14.4627)\n",
            "Rule 3: (ALARM CLOCK BAKELIKE RED  -> ALARM CLOCK BAKELIKE GREEN : Confidence=0.7517, Lift=14.4627)\n",
            "\n",
            "yes\n",
            "Items: HOT WATER BOTTLE I AM SO POORLY, CHOCOLATE HOT WATER BOTTLE\n",
            "Support: 0.0365 (3.65%)\n",
            "Rule 1: (None -> HOT WATER BOTTLE I AM SO POORLY, CHOCOLATE HOT WATER BOTTLE : Confidence=0.0365, Lift=1.0000)\n",
            "Rule 2: (CHOCOLATE HOT WATER BOTTLE -> HOT WATER BOTTLE I AM SO POORLY : Confidence=0.5163, Lift=9.7484)\n",
            "Rule 3: (HOT WATER BOTTLE I AM SO POORLY -> CHOCOLATE HOT WATER BOTTLE : Confidence=0.6894, Lift=9.7484)\n",
            "\n",
            "yes\n",
            "Items: PAPER CHAIN KIT VINTAGE CHRISTMAS, PAPER CHAIN KIT 50'S CHRISTMAS \n",
            "Support: 0.0477 (4.77%)\n",
            "Rule 1: (None -> PAPER CHAIN KIT VINTAGE CHRISTMAS, PAPER CHAIN KIT 50'S CHRISTMAS  : Confidence=0.0477, Lift=1.0000)\n",
            "Rule 2: (PAPER CHAIN KIT 50'S CHRISTMAS  -> PAPER CHAIN KIT VINTAGE CHRISTMAS : Confidence=0.5160, Lift=7.1958)\n",
            "Rule 3: (PAPER CHAIN KIT VINTAGE CHRISTMAS -> PAPER CHAIN KIT 50'S CHRISTMAS  : Confidence=0.6651, Lift=7.1958)\n",
            "\n"
          ]
        }
      ]
    },
    {
      "cell_type": "code",
      "source": [
        "from apyori import apriori\n",
        "\n",
        "# Replace 'transactions' with your actual list of transaction sets\n",
        "min_sup = 0.03\n",
        "frequent_itemsets = list(apriori(new_transactions_dec, min_support=min_sup))\n",
        "\n",
        "for itemset in frequent_itemsets:\n",
        "    if len(itemset.items) > 1:  # Ensure there is more than one item in the itemset\n",
        "        print('yes')\n",
        "        print(f\"Items: {', '.join(itemset.items)}\")\n",
        "        print(f\"Support: {itemset.support:.4f} ({itemset.support*100:.2f}%)\")\n",
        "\n",
        "        for i, stat in enumerate(itemset.ordered_statistics, start=1):\n",
        "            base_items = ', '.join(stat.items_base) if stat.items_base else 'None'\n",
        "            add_items = ', '.join(stat.items_add)\n",
        "            confidence = stat.confidence\n",
        "            lift = stat.lift\n",
        "            print(f\"Rule {i}: ({base_items} -> {add_items} : Confidence={confidence:.4f}, Lift={lift:.4f})\")\n",
        "        print()\n"
      ],
      "metadata": {
        "colab": {
          "base_uri": "https://localhost:8080/"
        },
        "id": "uOACv_WMKgZa",
        "outputId": "2024f917-b0e0-41d8-d0f5-5cdf7c08053a"
      },
      "execution_count": 89,
      "outputs": [
        {
          "output_type": "stream",
          "name": "stdout",
          "text": [
            "yes\n",
            "Items: ALARM CLOCK BAKELIKE RED , ALARM CLOCK BAKELIKE GREEN\n",
            "Support: 0.0368 (3.68%)\n",
            "Rule 1: (None -> ALARM CLOCK BAKELIKE GREEN, ALARM CLOCK BAKELIKE RED  : Confidence=0.0368, Lift=1.0000)\n",
            "Rule 2: (ALARM CLOCK BAKELIKE GREEN -> ALARM CLOCK BAKELIKE RED  : Confidence=0.7089, Lift=14.4627)\n",
            "Rule 3: (ALARM CLOCK BAKELIKE RED  -> ALARM CLOCK BAKELIKE GREEN : Confidence=0.7517, Lift=14.4627)\n",
            "\n",
            "yes\n",
            "Items: HOT WATER BOTTLE I AM SO POORLY, CHOCOLATE HOT WATER BOTTLE\n",
            "Support: 0.0365 (3.65%)\n",
            "Rule 1: (None -> HOT WATER BOTTLE I AM SO POORLY, CHOCOLATE HOT WATER BOTTLE : Confidence=0.0365, Lift=1.0000)\n",
            "Rule 2: (CHOCOLATE HOT WATER BOTTLE -> HOT WATER BOTTLE I AM SO POORLY : Confidence=0.5163, Lift=9.7484)\n",
            "Rule 3: (HOT WATER BOTTLE I AM SO POORLY -> CHOCOLATE HOT WATER BOTTLE : Confidence=0.6894, Lift=9.7484)\n",
            "\n",
            "yes\n",
            "Items: SCOTTIE DOG HOT WATER BOTTLE, CHOCOLATE HOT WATER BOTTLE\n",
            "Support: 0.0329 (3.29%)\n",
            "Rule 1: (None -> SCOTTIE DOG HOT WATER BOTTLE, CHOCOLATE HOT WATER BOTTLE : Confidence=0.0329, Lift=1.0000)\n",
            "Rule 2: (CHOCOLATE HOT WATER BOTTLE -> SCOTTIE DOG HOT WATER BOTTLE : Confidence=0.4651, Lift=6.4564)\n",
            "Rule 3: (SCOTTIE DOG HOT WATER BOTTLE -> CHOCOLATE HOT WATER BOTTLE : Confidence=0.4566, Lift=6.4564)\n",
            "\n",
            "yes\n",
            "Items: HAND WARMER OWL DESIGN, HAND WARMER BIRD DESIGN\n",
            "Support: 0.0303 (3.03%)\n",
            "Rule 1: (None -> HAND WARMER OWL DESIGN, HAND WARMER BIRD DESIGN : Confidence=0.0303, Lift=1.0000)\n",
            "Rule 2: (HAND WARMER BIRD DESIGN -> HAND WARMER OWL DESIGN : Confidence=0.5227, Lift=9.8092)\n",
            "Rule 3: (HAND WARMER OWL DESIGN -> HAND WARMER BIRD DESIGN : Confidence=0.5679, Lift=9.8092)\n",
            "\n",
            "yes\n",
            "Items: HAND WARMER OWL DESIGN, HAND WARMER SCOTTY DOG DESIGN\n",
            "Support: 0.0303 (3.03%)\n",
            "Rule 1: (None -> HAND WARMER OWL DESIGN, HAND WARMER SCOTTY DOG DESIGN : Confidence=0.0303, Lift=1.0000)\n",
            "Rule 2: (HAND WARMER OWL DESIGN -> HAND WARMER SCOTTY DOG DESIGN : Confidence=0.5679, Lift=12.6943)\n",
            "Rule 3: (HAND WARMER SCOTTY DOG DESIGN -> HAND WARMER OWL DESIGN : Confidence=0.6765, Lift=12.6943)\n",
            "\n",
            "yes\n",
            "Items: PAPER CHAIN KIT VINTAGE CHRISTMAS, PAPER CHAIN KIT 50'S CHRISTMAS \n",
            "Support: 0.0477 (4.77%)\n",
            "Rule 1: (None -> PAPER CHAIN KIT VINTAGE CHRISTMAS, PAPER CHAIN KIT 50'S CHRISTMAS  : Confidence=0.0477, Lift=1.0000)\n",
            "Rule 2: (PAPER CHAIN KIT 50'S CHRISTMAS  -> PAPER CHAIN KIT VINTAGE CHRISTMAS : Confidence=0.5160, Lift=7.1958)\n",
            "Rule 3: (PAPER CHAIN KIT VINTAGE CHRISTMAS -> PAPER CHAIN KIT 50'S CHRISTMAS  : Confidence=0.6651, Lift=7.1958)\n",
            "\n"
          ]
        },
        {
          "output_type": "stream",
          "name": "stderr",
          "text": [
            "/usr/local/lib/python3.10/dist-packages/ipykernel/ipkernel.py:283: DeprecationWarning: `should_run_async` will not call `transform_cell` automatically in the future. Please pass the result to `transformed_cell` argument and any exception that happen during thetransform in `preprocessing_exc_tuple` in IPython 7.17 and above.\n",
            "  and should_run_async(code)\n"
          ]
        }
      ]
    },
    {
      "cell_type": "code",
      "source": [
        "from apyori import apriori\n",
        "\n",
        "frequent_itemsets = list(apriori(new_transactions_dec, min_support=0.03))\n",
        "\n",
        "# Displaying the results for itemsets with more than one item:\n",
        "for itemset in frequent_itemsets:\n",
        "    # Getting the length of the itemset\n",
        "    length = len(itemset.items)\n",
        "    if length > 1:\n",
        "        print('yes')\n",
        "        # Joining the items into a string\n",
        "        items = ', '.join(itemset.items)\n",
        "        support = itemset.support\n",
        "        print(f\"Items: {items}\")\n",
        "        print(f\"Support: {support:.4f} ({support*100:.2f}%)\")\n",
        "\n",
        "        # Processing the ordered statistics\n",
        "        for index, stat in enumerate(itemset.ordered_statistics, start=1):\n",
        "            items_base = ', '.join(stat.items_base) if stat.items_base else 'None'\n",
        "            items_add = ', '.join(stat.items_add)\n",
        "            confidence = stat.confidence\n",
        "            lift = stat.lift\n",
        "            print(f\"Rule {index}: ({items_base} -> {items_add}): Confidence={confidence:.4f}, Lift={lift:.4f}\")\n",
        "        print()\n"
      ],
      "metadata": {
        "colab": {
          "base_uri": "https://localhost:8080/"
        },
        "id": "wZz8RPU4IUSh",
        "outputId": "28b51c1e-2f5f-4fcc-f934-9174fd4bb53f"
      },
      "execution_count": 90,
      "outputs": [
        {
          "output_type": "stream",
          "name": "stderr",
          "text": [
            "/usr/local/lib/python3.10/dist-packages/ipykernel/ipkernel.py:283: DeprecationWarning: `should_run_async` will not call `transform_cell` automatically in the future. Please pass the result to `transformed_cell` argument and any exception that happen during thetransform in `preprocessing_exc_tuple` in IPython 7.17 and above.\n",
            "  and should_run_async(code)\n"
          ]
        },
        {
          "output_type": "stream",
          "name": "stdout",
          "text": [
            "yes\n",
            "Items: ALARM CLOCK BAKELIKE RED , ALARM CLOCK BAKELIKE GREEN\n",
            "Support: 0.0368 (3.68%)\n",
            "Rule 1: (None -> ALARM CLOCK BAKELIKE GREEN, ALARM CLOCK BAKELIKE RED ): Confidence=0.0368, Lift=1.0000\n",
            "Rule 2: (ALARM CLOCK BAKELIKE GREEN -> ALARM CLOCK BAKELIKE RED ): Confidence=0.7089, Lift=14.4627\n",
            "Rule 3: (ALARM CLOCK BAKELIKE RED  -> ALARM CLOCK BAKELIKE GREEN): Confidence=0.7517, Lift=14.4627\n",
            "\n",
            "yes\n",
            "Items: HOT WATER BOTTLE I AM SO POORLY, CHOCOLATE HOT WATER BOTTLE\n",
            "Support: 0.0365 (3.65%)\n",
            "Rule 1: (None -> HOT WATER BOTTLE I AM SO POORLY, CHOCOLATE HOT WATER BOTTLE): Confidence=0.0365, Lift=1.0000\n",
            "Rule 2: (CHOCOLATE HOT WATER BOTTLE -> HOT WATER BOTTLE I AM SO POORLY): Confidence=0.5163, Lift=9.7484\n",
            "Rule 3: (HOT WATER BOTTLE I AM SO POORLY -> CHOCOLATE HOT WATER BOTTLE): Confidence=0.6894, Lift=9.7484\n",
            "\n",
            "yes\n",
            "Items: SCOTTIE DOG HOT WATER BOTTLE, CHOCOLATE HOT WATER BOTTLE\n",
            "Support: 0.0329 (3.29%)\n",
            "Rule 1: (None -> SCOTTIE DOG HOT WATER BOTTLE, CHOCOLATE HOT WATER BOTTLE): Confidence=0.0329, Lift=1.0000\n",
            "Rule 2: (CHOCOLATE HOT WATER BOTTLE -> SCOTTIE DOG HOT WATER BOTTLE): Confidence=0.4651, Lift=6.4564\n",
            "Rule 3: (SCOTTIE DOG HOT WATER BOTTLE -> CHOCOLATE HOT WATER BOTTLE): Confidence=0.4566, Lift=6.4564\n",
            "\n",
            "yes\n",
            "Items: HAND WARMER OWL DESIGN, HAND WARMER BIRD DESIGN\n",
            "Support: 0.0303 (3.03%)\n",
            "Rule 1: (None -> HAND WARMER OWL DESIGN, HAND WARMER BIRD DESIGN): Confidence=0.0303, Lift=1.0000\n",
            "Rule 2: (HAND WARMER BIRD DESIGN -> HAND WARMER OWL DESIGN): Confidence=0.5227, Lift=9.8092\n",
            "Rule 3: (HAND WARMER OWL DESIGN -> HAND WARMER BIRD DESIGN): Confidence=0.5679, Lift=9.8092\n",
            "\n",
            "yes\n",
            "Items: HAND WARMER OWL DESIGN, HAND WARMER SCOTTY DOG DESIGN\n",
            "Support: 0.0303 (3.03%)\n",
            "Rule 1: (None -> HAND WARMER OWL DESIGN, HAND WARMER SCOTTY DOG DESIGN): Confidence=0.0303, Lift=1.0000\n",
            "Rule 2: (HAND WARMER OWL DESIGN -> HAND WARMER SCOTTY DOG DESIGN): Confidence=0.5679, Lift=12.6943\n",
            "Rule 3: (HAND WARMER SCOTTY DOG DESIGN -> HAND WARMER OWL DESIGN): Confidence=0.6765, Lift=12.6943\n",
            "\n",
            "yes\n",
            "Items: PAPER CHAIN KIT VINTAGE CHRISTMAS, PAPER CHAIN KIT 50'S CHRISTMAS \n",
            "Support: 0.0477 (4.77%)\n",
            "Rule 1: (None -> PAPER CHAIN KIT VINTAGE CHRISTMAS, PAPER CHAIN KIT 50'S CHRISTMAS ): Confidence=0.0477, Lift=1.0000\n",
            "Rule 2: (PAPER CHAIN KIT 50'S CHRISTMAS  -> PAPER CHAIN KIT VINTAGE CHRISTMAS): Confidence=0.5160, Lift=7.1958\n",
            "Rule 3: (PAPER CHAIN KIT VINTAGE CHRISTMAS -> PAPER CHAIN KIT 50'S CHRISTMAS ): Confidence=0.6651, Lift=7.1958\n",
            "\n"
          ]
        }
      ]
    },
    {
      "cell_type": "code",
      "source": [
        "from apyori import apriori\n",
        "\n",
        "frequent_itemsets = list(apriori(new_transactions_dec, min_support=0.03))\n",
        "\n",
        "# Displaying the results for itemsets with more than one item:\n",
        "for itemset in frequent_itemsets:\n",
        "    # Getting the length of the itemset\n",
        "    length = len(itemset.items)\n",
        "    if length > 1:\n",
        "        print('yes')\n",
        "        # Joining the items into a string\n",
        "        items = ', '.join(itemset.items)\n",
        "        support = itemset.support\n",
        "        print(f\"Items: {items}\")\n",
        "        print(f\"Support: {support:.4f} ({support*100:.2f}%)\")\n",
        "\n",
        "        # Processing the ordered statistics\n",
        "        for index, stat in enumerate(itemset.ordered_statistics, start=1):\n",
        "            items_base = ', '.join(stat.items_base) if stat.items_base else 'None'\n",
        "            items_add = ', '.join(stat.items_add)\n",
        "            confidence = stat.confidence\n",
        "            lift = stat.lift"
      ],
      "metadata": {
        "colab": {
          "base_uri": "https://localhost:8080/"
        },
        "id": "ADQeii0xMB9n",
        "outputId": "90c3cc24-22a5-42a8-fe40-1f7bef70e67a"
      },
      "execution_count": 94,
      "outputs": [
        {
          "output_type": "stream",
          "name": "stdout",
          "text": [
            "yes\n",
            "Items: ALARM CLOCK BAKELIKE RED , ALARM CLOCK BAKELIKE GREEN\n",
            "Support: 0.0368 (3.68%)\n",
            "yes\n",
            "Items: HOT WATER BOTTLE I AM SO POORLY, CHOCOLATE HOT WATER BOTTLE\n",
            "Support: 0.0365 (3.65%)\n",
            "yes\n",
            "Items: SCOTTIE DOG HOT WATER BOTTLE, CHOCOLATE HOT WATER BOTTLE\n",
            "Support: 0.0329 (3.29%)\n",
            "yes\n",
            "Items: HAND WARMER OWL DESIGN, HAND WARMER BIRD DESIGN\n",
            "Support: 0.0303 (3.03%)\n",
            "yes\n",
            "Items: HAND WARMER OWL DESIGN, HAND WARMER SCOTTY DOG DESIGN\n",
            "Support: 0.0303 (3.03%)\n",
            "yes\n",
            "Items: PAPER CHAIN KIT VINTAGE CHRISTMAS, PAPER CHAIN KIT 50'S CHRISTMAS \n",
            "Support: 0.0477 (4.77%)\n"
          ]
        },
        {
          "output_type": "stream",
          "name": "stderr",
          "text": [
            "/usr/local/lib/python3.10/dist-packages/ipykernel/ipkernel.py:283: DeprecationWarning: `should_run_async` will not call `transform_cell` automatically in the future. Please pass the result to `transformed_cell` argument and any exception that happen during thetransform in `preprocessing_exc_tuple` in IPython 7.17 and above.\n",
            "  and should_run_async(code)\n"
          ]
        }
      ]
    },
    {
      "cell_type": "code",
      "source": [
        "f\"Rule {index}: ({items_base} -> {items_add}): Confidence={confidence:.4f}, Lift={lift:.4f}\""
      ],
      "metadata": {
        "colab": {
          "base_uri": "https://localhost:8080/",
          "height": 108
        },
        "id": "YZf-G1sJL-dH",
        "outputId": "0b038c62-5c79-478e-c984-5fee18d811a8"
      },
      "execution_count": 95,
      "outputs": [
        {
          "output_type": "stream",
          "name": "stderr",
          "text": [
            "/usr/local/lib/python3.10/dist-packages/ipykernel/ipkernel.py:283: DeprecationWarning: `should_run_async` will not call `transform_cell` automatically in the future. Please pass the result to `transformed_cell` argument and any exception that happen during thetransform in `preprocessing_exc_tuple` in IPython 7.17 and above.\n",
            "  and should_run_async(code)\n"
          ]
        },
        {
          "output_type": "execute_result",
          "data": {
            "text/plain": [
              "\"Rule 3: (PAPER CHAIN KIT VINTAGE CHRISTMAS -> PAPER CHAIN KIT 50'S CHRISTMAS ): Confidence=0.6651, Lift=7.1958\""
            ],
            "application/vnd.google.colaboratory.intrinsic+json": {
              "type": "string"
            }
          },
          "metadata": {},
          "execution_count": 95
        }
      ]
    },
    {
      "cell_type": "code",
      "source": [
        "import pandas as pd\n",
        "from apyori import apriori\n",
        "\n",
        "# Replace 'transactions' with your actual list of transaction sets.\n",
        "min_sup = 0.03\n",
        "frequent_itemsets = list(apriori(new_transactions_dec, min_support=min_sup))\n",
        "\n",
        "# Prepare a list to collect the results.\n",
        "results = []\n",
        "\n",
        "# Process each frequent itemset generated by the apriori algorithm.\n",
        "for itemset in frequent_itemsets:\n",
        "    # Check if the itemset has more than one item.\n",
        "    if len(itemset.items) > 1:\n",
        "        # Store the basic itemset information.\n",
        "        item_info = {\n",
        "            \"yes\": 'yes',\n",
        "            \"Items\": ', '.join(itemset.items),\n",
        "            \"Support\": f\"{itemset.support:.4f} ({itemset.support*100:.2f}%)\"\n",
        "        }\n",
        "        rules_info = []\n",
        "\n",
        "        # Now process the rules associated with the itemset.\n",
        "        for rule_number, ordered_stat in enumerate(itemset.ordered_statistics, start=1):\n",
        "            base_items = ', '.join(ordered_stat.items_base) if ordered_stat.items_base else 'None'\n",
        "            add_items = ', '.join(ordered_stat.items_add)\n",
        "            # Store the rule information.\n",
        "            rules_info.append(f\"Rule {rule_number}: ({base_items} -> {add_items} : Confidence={ordered_stat.confidence:.4f}, Lift={ordered_stat.lift:.4f})\")\n",
        "\n",
        "        # Add the itemset information and all its rules to the results.\n",
        "        item_info.update({\"Rules\": '\\n'.join(rules_info)})\n",
        "        results.append(item_info)\n",
        "\n",
        "# Convert the results list to a DataFrame for display.\n",
        "results_df = pd.DataFrame(results)\n",
        "\n",
        "# If you want to display the DataFrame in Google Colab:\n",
        "results_df\n"
      ],
      "metadata": {
        "id": "Rja02DF1QsVb",
        "outputId": "0e6a2956-e3fd-4a9a-976c-60139a38654b",
        "colab": {
          "base_uri": "https://localhost:8080/",
          "height": 397
        }
      },
      "execution_count": 97,
      "outputs": [
        {
          "output_type": "stream",
          "name": "stderr",
          "text": [
            "/usr/local/lib/python3.10/dist-packages/ipykernel/ipkernel.py:283: DeprecationWarning: `should_run_async` will not call `transform_cell` automatically in the future. Please pass the result to `transformed_cell` argument and any exception that happen during thetransform in `preprocessing_exc_tuple` in IPython 7.17 and above.\n",
            "  and should_run_async(code)\n"
          ]
        },
        {
          "output_type": "execute_result",
          "data": {
            "text/plain": [
              "   yes                                              Items         Support  \\\n",
              "0  yes  ALARM CLOCK BAKELIKE RED , ALARM CLOCK BAKELIK...  0.0368 (3.68%)   \n",
              "1  yes  HOT WATER BOTTLE I AM SO POORLY, CHOCOLATE HOT...  0.0365 (3.65%)   \n",
              "2  yes  SCOTTIE DOG HOT WATER BOTTLE, CHOCOLATE HOT WA...  0.0329 (3.29%)   \n",
              "3  yes    HAND WARMER OWL DESIGN, HAND WARMER BIRD DESIGN  0.0303 (3.03%)   \n",
              "4  yes  HAND WARMER OWL DESIGN, HAND WARMER SCOTTY DOG...  0.0303 (3.03%)   \n",
              "5  yes  PAPER CHAIN KIT VINTAGE CHRISTMAS, PAPER CHAIN...  0.0477 (4.77%)   \n",
              "\n",
              "                                               Rules  \n",
              "0  Rule 1: (None -> ALARM CLOCK BAKELIKE GREEN, A...  \n",
              "1  Rule 1: (None -> HOT WATER BOTTLE I AM SO POOR...  \n",
              "2  Rule 1: (None -> SCOTTIE DOG HOT WATER BOTTLE,...  \n",
              "3  Rule 1: (None -> HAND WARMER OWL DESIGN, HAND ...  \n",
              "4  Rule 1: (None -> HAND WARMER OWL DESIGN, HAND ...  \n",
              "5  Rule 1: (None -> PAPER CHAIN KIT VINTAGE CHRIS...  "
            ],
            "text/html": [
              "\n",
              "  <div id=\"df-16d52926-8648-4b69-ac78-97969fbeffcf\" class=\"colab-df-container\">\n",
              "    <div>\n",
              "<style scoped>\n",
              "    .dataframe tbody tr th:only-of-type {\n",
              "        vertical-align: middle;\n",
              "    }\n",
              "\n",
              "    .dataframe tbody tr th {\n",
              "        vertical-align: top;\n",
              "    }\n",
              "\n",
              "    .dataframe thead th {\n",
              "        text-align: right;\n",
              "    }\n",
              "</style>\n",
              "<table border=\"1\" class=\"dataframe\">\n",
              "  <thead>\n",
              "    <tr style=\"text-align: right;\">\n",
              "      <th></th>\n",
              "      <th>yes</th>\n",
              "      <th>Items</th>\n",
              "      <th>Support</th>\n",
              "      <th>Rules</th>\n",
              "    </tr>\n",
              "  </thead>\n",
              "  <tbody>\n",
              "    <tr>\n",
              "      <th>0</th>\n",
              "      <td>yes</td>\n",
              "      <td>ALARM CLOCK BAKELIKE RED , ALARM CLOCK BAKELIK...</td>\n",
              "      <td>0.0368 (3.68%)</td>\n",
              "      <td>Rule 1: (None -&gt; ALARM CLOCK BAKELIKE GREEN, A...</td>\n",
              "    </tr>\n",
              "    <tr>\n",
              "      <th>1</th>\n",
              "      <td>yes</td>\n",
              "      <td>HOT WATER BOTTLE I AM SO POORLY, CHOCOLATE HOT...</td>\n",
              "      <td>0.0365 (3.65%)</td>\n",
              "      <td>Rule 1: (None -&gt; HOT WATER BOTTLE I AM SO POOR...</td>\n",
              "    </tr>\n",
              "    <tr>\n",
              "      <th>2</th>\n",
              "      <td>yes</td>\n",
              "      <td>SCOTTIE DOG HOT WATER BOTTLE, CHOCOLATE HOT WA...</td>\n",
              "      <td>0.0329 (3.29%)</td>\n",
              "      <td>Rule 1: (None -&gt; SCOTTIE DOG HOT WATER BOTTLE,...</td>\n",
              "    </tr>\n",
              "    <tr>\n",
              "      <th>3</th>\n",
              "      <td>yes</td>\n",
              "      <td>HAND WARMER OWL DESIGN, HAND WARMER BIRD DESIGN</td>\n",
              "      <td>0.0303 (3.03%)</td>\n",
              "      <td>Rule 1: (None -&gt; HAND WARMER OWL DESIGN, HAND ...</td>\n",
              "    </tr>\n",
              "    <tr>\n",
              "      <th>4</th>\n",
              "      <td>yes</td>\n",
              "      <td>HAND WARMER OWL DESIGN, HAND WARMER SCOTTY DOG...</td>\n",
              "      <td>0.0303 (3.03%)</td>\n",
              "      <td>Rule 1: (None -&gt; HAND WARMER OWL DESIGN, HAND ...</td>\n",
              "    </tr>\n",
              "    <tr>\n",
              "      <th>5</th>\n",
              "      <td>yes</td>\n",
              "      <td>PAPER CHAIN KIT VINTAGE CHRISTMAS, PAPER CHAIN...</td>\n",
              "      <td>0.0477 (4.77%)</td>\n",
              "      <td>Rule 1: (None -&gt; PAPER CHAIN KIT VINTAGE CHRIS...</td>\n",
              "    </tr>\n",
              "  </tbody>\n",
              "</table>\n",
              "</div>\n",
              "    <div class=\"colab-df-buttons\">\n",
              "\n",
              "  <div class=\"colab-df-container\">\n",
              "    <button class=\"colab-df-convert\" onclick=\"convertToInteractive('df-16d52926-8648-4b69-ac78-97969fbeffcf')\"\n",
              "            title=\"Convert this dataframe to an interactive table.\"\n",
              "            style=\"display:none;\">\n",
              "\n",
              "  <svg xmlns=\"http://www.w3.org/2000/svg\" height=\"24px\" viewBox=\"0 -960 960 960\">\n",
              "    <path d=\"M120-120v-720h720v720H120Zm60-500h600v-160H180v160Zm220 220h160v-160H400v160Zm0 220h160v-160H400v160ZM180-400h160v-160H180v160Zm440 0h160v-160H620v160ZM180-180h160v-160H180v160Zm440 0h160v-160H620v160Z\"/>\n",
              "  </svg>\n",
              "    </button>\n",
              "\n",
              "  <style>\n",
              "    .colab-df-container {\n",
              "      display:flex;\n",
              "      gap: 12px;\n",
              "    }\n",
              "\n",
              "    .colab-df-convert {\n",
              "      background-color: #E8F0FE;\n",
              "      border: none;\n",
              "      border-radius: 50%;\n",
              "      cursor: pointer;\n",
              "      display: none;\n",
              "      fill: #1967D2;\n",
              "      height: 32px;\n",
              "      padding: 0 0 0 0;\n",
              "      width: 32px;\n",
              "    }\n",
              "\n",
              "    .colab-df-convert:hover {\n",
              "      background-color: #E2EBFA;\n",
              "      box-shadow: 0px 1px 2px rgba(60, 64, 67, 0.3), 0px 1px 3px 1px rgba(60, 64, 67, 0.15);\n",
              "      fill: #174EA6;\n",
              "    }\n",
              "\n",
              "    .colab-df-buttons div {\n",
              "      margin-bottom: 4px;\n",
              "    }\n",
              "\n",
              "    [theme=dark] .colab-df-convert {\n",
              "      background-color: #3B4455;\n",
              "      fill: #D2E3FC;\n",
              "    }\n",
              "\n",
              "    [theme=dark] .colab-df-convert:hover {\n",
              "      background-color: #434B5C;\n",
              "      box-shadow: 0px 1px 3px 1px rgba(0, 0, 0, 0.15);\n",
              "      filter: drop-shadow(0px 1px 2px rgba(0, 0, 0, 0.3));\n",
              "      fill: #FFFFFF;\n",
              "    }\n",
              "  </style>\n",
              "\n",
              "    <script>\n",
              "      const buttonEl =\n",
              "        document.querySelector('#df-16d52926-8648-4b69-ac78-97969fbeffcf button.colab-df-convert');\n",
              "      buttonEl.style.display =\n",
              "        google.colab.kernel.accessAllowed ? 'block' : 'none';\n",
              "\n",
              "      async function convertToInteractive(key) {\n",
              "        const element = document.querySelector('#df-16d52926-8648-4b69-ac78-97969fbeffcf');\n",
              "        const dataTable =\n",
              "          await google.colab.kernel.invokeFunction('convertToInteractive',\n",
              "                                                    [key], {});\n",
              "        if (!dataTable) return;\n",
              "\n",
              "        const docLinkHtml = 'Like what you see? Visit the ' +\n",
              "          '<a target=\"_blank\" href=https://colab.research.google.com/notebooks/data_table.ipynb>data table notebook</a>'\n",
              "          + ' to learn more about interactive tables.';\n",
              "        element.innerHTML = '';\n",
              "        dataTable['output_type'] = 'display_data';\n",
              "        await google.colab.output.renderOutput(dataTable, element);\n",
              "        const docLink = document.createElement('div');\n",
              "        docLink.innerHTML = docLinkHtml;\n",
              "        element.appendChild(docLink);\n",
              "      }\n",
              "    </script>\n",
              "  </div>\n",
              "\n",
              "\n",
              "<div id=\"df-63e9ac27-6a79-4592-b931-a4cf0e3c782c\">\n",
              "  <button class=\"colab-df-quickchart\" onclick=\"quickchart('df-63e9ac27-6a79-4592-b931-a4cf0e3c782c')\"\n",
              "            title=\"Suggest charts\"\n",
              "            style=\"display:none;\">\n",
              "\n",
              "<svg xmlns=\"http://www.w3.org/2000/svg\" height=\"24px\"viewBox=\"0 0 24 24\"\n",
              "     width=\"24px\">\n",
              "    <g>\n",
              "        <path d=\"M19 3H5c-1.1 0-2 .9-2 2v14c0 1.1.9 2 2 2h14c1.1 0 2-.9 2-2V5c0-1.1-.9-2-2-2zM9 17H7v-7h2v7zm4 0h-2V7h2v10zm4 0h-2v-4h2v4z\"/>\n",
              "    </g>\n",
              "</svg>\n",
              "  </button>\n",
              "\n",
              "<style>\n",
              "  .colab-df-quickchart {\n",
              "      --bg-color: #E8F0FE;\n",
              "      --fill-color: #1967D2;\n",
              "      --hover-bg-color: #E2EBFA;\n",
              "      --hover-fill-color: #174EA6;\n",
              "      --disabled-fill-color: #AAA;\n",
              "      --disabled-bg-color: #DDD;\n",
              "  }\n",
              "\n",
              "  [theme=dark] .colab-df-quickchart {\n",
              "      --bg-color: #3B4455;\n",
              "      --fill-color: #D2E3FC;\n",
              "      --hover-bg-color: #434B5C;\n",
              "      --hover-fill-color: #FFFFFF;\n",
              "      --disabled-bg-color: #3B4455;\n",
              "      --disabled-fill-color: #666;\n",
              "  }\n",
              "\n",
              "  .colab-df-quickchart {\n",
              "    background-color: var(--bg-color);\n",
              "    border: none;\n",
              "    border-radius: 50%;\n",
              "    cursor: pointer;\n",
              "    display: none;\n",
              "    fill: var(--fill-color);\n",
              "    height: 32px;\n",
              "    padding: 0;\n",
              "    width: 32px;\n",
              "  }\n",
              "\n",
              "  .colab-df-quickchart:hover {\n",
              "    background-color: var(--hover-bg-color);\n",
              "    box-shadow: 0 1px 2px rgba(60, 64, 67, 0.3), 0 1px 3px 1px rgba(60, 64, 67, 0.15);\n",
              "    fill: var(--button-hover-fill-color);\n",
              "  }\n",
              "\n",
              "  .colab-df-quickchart-complete:disabled,\n",
              "  .colab-df-quickchart-complete:disabled:hover {\n",
              "    background-color: var(--disabled-bg-color);\n",
              "    fill: var(--disabled-fill-color);\n",
              "    box-shadow: none;\n",
              "  }\n",
              "\n",
              "  .colab-df-spinner {\n",
              "    border: 2px solid var(--fill-color);\n",
              "    border-color: transparent;\n",
              "    border-bottom-color: var(--fill-color);\n",
              "    animation:\n",
              "      spin 1s steps(1) infinite;\n",
              "  }\n",
              "\n",
              "  @keyframes spin {\n",
              "    0% {\n",
              "      border-color: transparent;\n",
              "      border-bottom-color: var(--fill-color);\n",
              "      border-left-color: var(--fill-color);\n",
              "    }\n",
              "    20% {\n",
              "      border-color: transparent;\n",
              "      border-left-color: var(--fill-color);\n",
              "      border-top-color: var(--fill-color);\n",
              "    }\n",
              "    30% {\n",
              "      border-color: transparent;\n",
              "      border-left-color: var(--fill-color);\n",
              "      border-top-color: var(--fill-color);\n",
              "      border-right-color: var(--fill-color);\n",
              "    }\n",
              "    40% {\n",
              "      border-color: transparent;\n",
              "      border-right-color: var(--fill-color);\n",
              "      border-top-color: var(--fill-color);\n",
              "    }\n",
              "    60% {\n",
              "      border-color: transparent;\n",
              "      border-right-color: var(--fill-color);\n",
              "    }\n",
              "    80% {\n",
              "      border-color: transparent;\n",
              "      border-right-color: var(--fill-color);\n",
              "      border-bottom-color: var(--fill-color);\n",
              "    }\n",
              "    90% {\n",
              "      border-color: transparent;\n",
              "      border-bottom-color: var(--fill-color);\n",
              "    }\n",
              "  }\n",
              "</style>\n",
              "\n",
              "  <script>\n",
              "    async function quickchart(key) {\n",
              "      const quickchartButtonEl =\n",
              "        document.querySelector('#' + key + ' button');\n",
              "      quickchartButtonEl.disabled = true;  // To prevent multiple clicks.\n",
              "      quickchartButtonEl.classList.add('colab-df-spinner');\n",
              "      try {\n",
              "        const charts = await google.colab.kernel.invokeFunction(\n",
              "            'suggestCharts', [key], {});\n",
              "      } catch (error) {\n",
              "        console.error('Error during call to suggestCharts:', error);\n",
              "      }\n",
              "      quickchartButtonEl.classList.remove('colab-df-spinner');\n",
              "      quickchartButtonEl.classList.add('colab-df-quickchart-complete');\n",
              "    }\n",
              "    (() => {\n",
              "      let quickchartButtonEl =\n",
              "        document.querySelector('#df-63e9ac27-6a79-4592-b931-a4cf0e3c782c button');\n",
              "      quickchartButtonEl.style.display =\n",
              "        google.colab.kernel.accessAllowed ? 'block' : 'none';\n",
              "    })();\n",
              "  </script>\n",
              "</div>\n",
              "    </div>\n",
              "  </div>\n"
            ]
          },
          "metadata": {},
          "execution_count": 97
        }
      ]
    },
    {
      "cell_type": "markdown",
      "source": [
        "## ข้อที่ 5 วันวาเลนไทน์\n",
        "\n",
        "\n"
      ],
      "metadata": {
        "id": "kkDNaGux5nC1"
      }
    },
    {
      "cell_type": "code",
      "source": [
        "df_valentine = df[(df['InvoiceDate'].dt.month == 2) & (df['InvoiceDate'].dt.day == 14) ]"
      ],
      "metadata": {
        "id": "ystwPhci5mpz",
        "colab": {
          "base_uri": "https://localhost:8080/"
        },
        "outputId": "2cf1b4a6-d2e7-410e-e4a4-ec7658eb9433"
      },
      "execution_count": 91,
      "outputs": [
        {
          "output_type": "stream",
          "name": "stderr",
          "text": [
            "/usr/local/lib/python3.10/dist-packages/ipykernel/ipkernel.py:283: DeprecationWarning: `should_run_async` will not call `transform_cell` automatically in the future. Please pass the result to `transformed_cell` argument and any exception that happen during thetransform in `preprocessing_exc_tuple` in IPython 7.17 and above.\n",
            "  and should_run_async(code)\n"
          ]
        }
      ]
    },
    {
      "cell_type": "code",
      "source": [
        "transactions_vlt = df_valentine.groupby('InvoiceNo')['Description'].apply(list).reset_index()\n",
        "new_transactions_vlt = transactions_vlt['Description'].apply(lambda x: [str(item) for item in x])"
      ],
      "metadata": {
        "id": "8xEEtagC7lxr",
        "colab": {
          "base_uri": "https://localhost:8080/"
        },
        "outputId": "4a646891-9816-41c6-ff7e-c83c962d9afd"
      },
      "execution_count": 92,
      "outputs": [
        {
          "output_type": "stream",
          "name": "stderr",
          "text": [
            "/usr/local/lib/python3.10/dist-packages/ipykernel/ipkernel.py:283: DeprecationWarning: `should_run_async` will not call `transform_cell` automatically in the future. Please pass the result to `transformed_cell` argument and any exception that happen during thetransform in `preprocessing_exc_tuple` in IPython 7.17 and above.\n",
            "  and should_run_async(code)\n"
          ]
        }
      ]
    },
    {
      "cell_type": "code",
      "source": [
        "frequentItemset5 = list(apriori(new_transactions_vlt, min_support=0.09))\n",
        "\n",
        "for record in frequentItemset5:\n",
        "    if len(record.items) > 1:\n",
        "        print('yes')\n",
        "        print(f\"Items: {', '.join(record.items)}\")\n",
        "        print(f\"Support: {record.support:.4f} ({record.support*100:.2f}%)\")\n",
        "\n",
        "        for i, stat in enumerate(record.ordered_statistics, 1):\n",
        "            items_base = 'None' if not stat.items_base else ', '.join(stat.items_base)\n",
        "            items_add = ','.join(stat.items_add)\n",
        "            confidence = stat.confidence\n",
        "            lift = stat.lift\n",
        "\n",
        "            print(f\"Rule {i}: ({items_base} -> {items_add} : Confidence={confidence:.4f}, Lift={lift:.4f})\")\n",
        "        print()\n"
      ],
      "metadata": {
        "id": "SBKSqkNT8G7m",
        "colab": {
          "base_uri": "https://localhost:8080/"
        },
        "outputId": "c8afd56d-6774-4226-8185-17fdc4b5b39b"
      },
      "execution_count": 93,
      "outputs": [
        {
          "output_type": "stream",
          "name": "stdout",
          "text": [
            "yes\n",
            "Items: HOMEMADE JAM SCENTED CANDLES, SET OF 3 CAKE TINS PANTRY DESIGN \n",
            "Support: 0.0909 (9.09%)\n",
            "Rule 1: (None -> HOMEMADE JAM SCENTED CANDLES,SET OF 3 CAKE TINS PANTRY DESIGN  : Confidence=0.0909, Lift=1.0000)\n",
            "Rule 2: (HOMEMADE JAM SCENTED CANDLES -> SET OF 3 CAKE TINS PANTRY DESIGN  : Confidence=1.0000, Lift=6.8750)\n",
            "Rule 3: (SET OF 3 CAKE TINS PANTRY DESIGN  -> HOMEMADE JAM SCENTED CANDLES : Confidence=0.6250, Lift=6.8750)\n",
            "\n",
            "yes\n",
            "Items: SET OF 6 SPICE TINS PANTRY DESIGN, SET OF 3 CAKE TINS PANTRY DESIGN \n",
            "Support: 0.0909 (9.09%)\n",
            "Rule 1: (None -> SET OF 6 SPICE TINS PANTRY DESIGN,SET OF 3 CAKE TINS PANTRY DESIGN  : Confidence=0.0909, Lift=1.0000)\n",
            "Rule 2: (SET OF 3 CAKE TINS PANTRY DESIGN  -> SET OF 6 SPICE TINS PANTRY DESIGN : Confidence=0.6250, Lift=5.7292)\n",
            "Rule 3: (SET OF 6 SPICE TINS PANTRY DESIGN -> SET OF 3 CAKE TINS PANTRY DESIGN  : Confidence=0.8333, Lift=5.7292)\n",
            "\n"
          ]
        },
        {
          "output_type": "stream",
          "name": "stderr",
          "text": [
            "/usr/local/lib/python3.10/dist-packages/ipykernel/ipkernel.py:283: DeprecationWarning: `should_run_async` will not call `transform_cell` automatically in the future. Please pass the result to `transformed_cell` argument and any exception that happen during thetransform in `preprocessing_exc_tuple` in IPython 7.17 and above.\n",
            "  and should_run_async(code)\n"
          ]
        }
      ]
    },
    {
      "cell_type": "code",
      "source": [],
      "metadata": {
        "colab": {
          "base_uri": "https://localhost:8080/"
        },
        "id": "dduOF897Fj2U",
        "outputId": "b036f635-18dd-40e9-dbc5-505266095edd"
      },
      "execution_count": 93,
      "outputs": [
        {
          "output_type": "stream",
          "name": "stderr",
          "text": [
            "/usr/local/lib/python3.10/dist-packages/ipykernel/ipkernel.py:283: DeprecationWarning: `should_run_async` will not call `transform_cell` automatically in the future. Please pass the result to `transformed_cell` argument and any exception that happen during thetransform in `preprocessing_exc_tuple` in IPython 7.17 and above.\n",
            "  and should_run_async(code)\n"
          ]
        }
      ]
    },
    {
      "cell_type": "markdown",
      "source": [
        "## ข้อ 6 โดยจัดกลุ่มตามประเทศและเดือน\n",
        "\n",
        "\n"
      ],
      "metadata": {
        "id": "fnBBxuwV7y8V"
      }
    }
  ]
}